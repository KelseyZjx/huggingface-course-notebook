{
  "nbformat": 4,
  "nbformat_minor": 0,
  "metadata": {
    "colab": {
      "provenance": []
    },
    "kernelspec": {
      "name": "python3",
      "display_name": "Python 3"
    },
    "language_info": {
      "name": "python"
    },
    "widgets": {
      "application/vnd.jupyter.widget-state+json": {
        "e8fd76bf646a437386647492202d63b3": {
          "model_module": "@jupyter-widgets/controls",
          "model_name": "HBoxModel",
          "model_module_version": "1.5.0",
          "state": {
            "_dom_classes": [],
            "_model_module": "@jupyter-widgets/controls",
            "_model_module_version": "1.5.0",
            "_model_name": "HBoxModel",
            "_view_count": null,
            "_view_module": "@jupyter-widgets/controls",
            "_view_module_version": "1.5.0",
            "_view_name": "HBoxView",
            "box_style": "",
            "children": [
              "IPY_MODEL_800c7fcc46bc483bab95f736a208c18b",
              "IPY_MODEL_34262d779f3d4d7ba9b58840d6d6042d",
              "IPY_MODEL_4c4a50ff3f95410a967665479a7d5b5c"
            ],
            "layout": "IPY_MODEL_df4a810ffe724841884ede32323a4648"
          }
        },
        "800c7fcc46bc483bab95f736a208c18b": {
          "model_module": "@jupyter-widgets/controls",
          "model_name": "HTMLModel",
          "model_module_version": "1.5.0",
          "state": {
            "_dom_classes": [],
            "_model_module": "@jupyter-widgets/controls",
            "_model_module_version": "1.5.0",
            "_model_name": "HTMLModel",
            "_view_count": null,
            "_view_module": "@jupyter-widgets/controls",
            "_view_module_version": "1.5.0",
            "_view_name": "HTMLView",
            "description": "",
            "description_tooltip": null,
            "layout": "IPY_MODEL_cf2a6c9d14e844279750855c1bb295ea",
            "placeholder": "​",
            "style": "IPY_MODEL_cf0f11c902ed4f39be93847990aca024",
            "value": "tokenizer_config.json: 100%"
          }
        },
        "34262d779f3d4d7ba9b58840d6d6042d": {
          "model_module": "@jupyter-widgets/controls",
          "model_name": "FloatProgressModel",
          "model_module_version": "1.5.0",
          "state": {
            "_dom_classes": [],
            "_model_module": "@jupyter-widgets/controls",
            "_model_module_version": "1.5.0",
            "_model_name": "FloatProgressModel",
            "_view_count": null,
            "_view_module": "@jupyter-widgets/controls",
            "_view_module_version": "1.5.0",
            "_view_name": "ProgressView",
            "bar_style": "success",
            "description": "",
            "description_tooltip": null,
            "layout": "IPY_MODEL_6c8410d9452d471b80ecb7242c021afc",
            "max": 49,
            "min": 0,
            "orientation": "horizontal",
            "style": "IPY_MODEL_ea29dc10b4924ed09ca6e42a3f5b35f8",
            "value": 49
          }
        },
        "4c4a50ff3f95410a967665479a7d5b5c": {
          "model_module": "@jupyter-widgets/controls",
          "model_name": "HTMLModel",
          "model_module_version": "1.5.0",
          "state": {
            "_dom_classes": [],
            "_model_module": "@jupyter-widgets/controls",
            "_model_module_version": "1.5.0",
            "_model_name": "HTMLModel",
            "_view_count": null,
            "_view_module": "@jupyter-widgets/controls",
            "_view_module_version": "1.5.0",
            "_view_name": "HTMLView",
            "description": "",
            "description_tooltip": null,
            "layout": "IPY_MODEL_3dd638dbee844b0babb92d5611e91c71",
            "placeholder": "​",
            "style": "IPY_MODEL_598603868fc8403aa301d61fac246b59",
            "value": " 49.0/49.0 [00:00&lt;00:00, 1.11kB/s]"
          }
        },
        "df4a810ffe724841884ede32323a4648": {
          "model_module": "@jupyter-widgets/base",
          "model_name": "LayoutModel",
          "model_module_version": "1.2.0",
          "state": {
            "_model_module": "@jupyter-widgets/base",
            "_model_module_version": "1.2.0",
            "_model_name": "LayoutModel",
            "_view_count": null,
            "_view_module": "@jupyter-widgets/base",
            "_view_module_version": "1.2.0",
            "_view_name": "LayoutView",
            "align_content": null,
            "align_items": null,
            "align_self": null,
            "border": null,
            "bottom": null,
            "display": null,
            "flex": null,
            "flex_flow": null,
            "grid_area": null,
            "grid_auto_columns": null,
            "grid_auto_flow": null,
            "grid_auto_rows": null,
            "grid_column": null,
            "grid_gap": null,
            "grid_row": null,
            "grid_template_areas": null,
            "grid_template_columns": null,
            "grid_template_rows": null,
            "height": null,
            "justify_content": null,
            "justify_items": null,
            "left": null,
            "margin": null,
            "max_height": null,
            "max_width": null,
            "min_height": null,
            "min_width": null,
            "object_fit": null,
            "object_position": null,
            "order": null,
            "overflow": null,
            "overflow_x": null,
            "overflow_y": null,
            "padding": null,
            "right": null,
            "top": null,
            "visibility": null,
            "width": null
          }
        },
        "cf2a6c9d14e844279750855c1bb295ea": {
          "model_module": "@jupyter-widgets/base",
          "model_name": "LayoutModel",
          "model_module_version": "1.2.0",
          "state": {
            "_model_module": "@jupyter-widgets/base",
            "_model_module_version": "1.2.0",
            "_model_name": "LayoutModel",
            "_view_count": null,
            "_view_module": "@jupyter-widgets/base",
            "_view_module_version": "1.2.0",
            "_view_name": "LayoutView",
            "align_content": null,
            "align_items": null,
            "align_self": null,
            "border": null,
            "bottom": null,
            "display": null,
            "flex": null,
            "flex_flow": null,
            "grid_area": null,
            "grid_auto_columns": null,
            "grid_auto_flow": null,
            "grid_auto_rows": null,
            "grid_column": null,
            "grid_gap": null,
            "grid_row": null,
            "grid_template_areas": null,
            "grid_template_columns": null,
            "grid_template_rows": null,
            "height": null,
            "justify_content": null,
            "justify_items": null,
            "left": null,
            "margin": null,
            "max_height": null,
            "max_width": null,
            "min_height": null,
            "min_width": null,
            "object_fit": null,
            "object_position": null,
            "order": null,
            "overflow": null,
            "overflow_x": null,
            "overflow_y": null,
            "padding": null,
            "right": null,
            "top": null,
            "visibility": null,
            "width": null
          }
        },
        "cf0f11c902ed4f39be93847990aca024": {
          "model_module": "@jupyter-widgets/controls",
          "model_name": "DescriptionStyleModel",
          "model_module_version": "1.5.0",
          "state": {
            "_model_module": "@jupyter-widgets/controls",
            "_model_module_version": "1.5.0",
            "_model_name": "DescriptionStyleModel",
            "_view_count": null,
            "_view_module": "@jupyter-widgets/base",
            "_view_module_version": "1.2.0",
            "_view_name": "StyleView",
            "description_width": ""
          }
        },
        "6c8410d9452d471b80ecb7242c021afc": {
          "model_module": "@jupyter-widgets/base",
          "model_name": "LayoutModel",
          "model_module_version": "1.2.0",
          "state": {
            "_model_module": "@jupyter-widgets/base",
            "_model_module_version": "1.2.0",
            "_model_name": "LayoutModel",
            "_view_count": null,
            "_view_module": "@jupyter-widgets/base",
            "_view_module_version": "1.2.0",
            "_view_name": "LayoutView",
            "align_content": null,
            "align_items": null,
            "align_self": null,
            "border": null,
            "bottom": null,
            "display": null,
            "flex": null,
            "flex_flow": null,
            "grid_area": null,
            "grid_auto_columns": null,
            "grid_auto_flow": null,
            "grid_auto_rows": null,
            "grid_column": null,
            "grid_gap": null,
            "grid_row": null,
            "grid_template_areas": null,
            "grid_template_columns": null,
            "grid_template_rows": null,
            "height": null,
            "justify_content": null,
            "justify_items": null,
            "left": null,
            "margin": null,
            "max_height": null,
            "max_width": null,
            "min_height": null,
            "min_width": null,
            "object_fit": null,
            "object_position": null,
            "order": null,
            "overflow": null,
            "overflow_x": null,
            "overflow_y": null,
            "padding": null,
            "right": null,
            "top": null,
            "visibility": null,
            "width": null
          }
        },
        "ea29dc10b4924ed09ca6e42a3f5b35f8": {
          "model_module": "@jupyter-widgets/controls",
          "model_name": "ProgressStyleModel",
          "model_module_version": "1.5.0",
          "state": {
            "_model_module": "@jupyter-widgets/controls",
            "_model_module_version": "1.5.0",
            "_model_name": "ProgressStyleModel",
            "_view_count": null,
            "_view_module": "@jupyter-widgets/base",
            "_view_module_version": "1.2.0",
            "_view_name": "StyleView",
            "bar_color": null,
            "description_width": ""
          }
        },
        "3dd638dbee844b0babb92d5611e91c71": {
          "model_module": "@jupyter-widgets/base",
          "model_name": "LayoutModel",
          "model_module_version": "1.2.0",
          "state": {
            "_model_module": "@jupyter-widgets/base",
            "_model_module_version": "1.2.0",
            "_model_name": "LayoutModel",
            "_view_count": null,
            "_view_module": "@jupyter-widgets/base",
            "_view_module_version": "1.2.0",
            "_view_name": "LayoutView",
            "align_content": null,
            "align_items": null,
            "align_self": null,
            "border": null,
            "bottom": null,
            "display": null,
            "flex": null,
            "flex_flow": null,
            "grid_area": null,
            "grid_auto_columns": null,
            "grid_auto_flow": null,
            "grid_auto_rows": null,
            "grid_column": null,
            "grid_gap": null,
            "grid_row": null,
            "grid_template_areas": null,
            "grid_template_columns": null,
            "grid_template_rows": null,
            "height": null,
            "justify_content": null,
            "justify_items": null,
            "left": null,
            "margin": null,
            "max_height": null,
            "max_width": null,
            "min_height": null,
            "min_width": null,
            "object_fit": null,
            "object_position": null,
            "order": null,
            "overflow": null,
            "overflow_x": null,
            "overflow_y": null,
            "padding": null,
            "right": null,
            "top": null,
            "visibility": null,
            "width": null
          }
        },
        "598603868fc8403aa301d61fac246b59": {
          "model_module": "@jupyter-widgets/controls",
          "model_name": "DescriptionStyleModel",
          "model_module_version": "1.5.0",
          "state": {
            "_model_module": "@jupyter-widgets/controls",
            "_model_module_version": "1.5.0",
            "_model_name": "DescriptionStyleModel",
            "_view_count": null,
            "_view_module": "@jupyter-widgets/base",
            "_view_module_version": "1.2.0",
            "_view_name": "StyleView",
            "description_width": ""
          }
        },
        "e4e66ff0b0b2451c8bb26259d3ff2e80": {
          "model_module": "@jupyter-widgets/controls",
          "model_name": "HBoxModel",
          "model_module_version": "1.5.0",
          "state": {
            "_dom_classes": [],
            "_model_module": "@jupyter-widgets/controls",
            "_model_module_version": "1.5.0",
            "_model_name": "HBoxModel",
            "_view_count": null,
            "_view_module": "@jupyter-widgets/controls",
            "_view_module_version": "1.5.0",
            "_view_name": "HBoxView",
            "box_style": "",
            "children": [
              "IPY_MODEL_60018169c9a247cd98c3c48555943186",
              "IPY_MODEL_9ff26b13943e4dc19494692a85d28e07",
              "IPY_MODEL_3b0bd651f54a447c9cca2b7fa046c77e"
            ],
            "layout": "IPY_MODEL_c47fb1bbe9ed4bd5841880f1989d4ea5"
          }
        },
        "60018169c9a247cd98c3c48555943186": {
          "model_module": "@jupyter-widgets/controls",
          "model_name": "HTMLModel",
          "model_module_version": "1.5.0",
          "state": {
            "_dom_classes": [],
            "_model_module": "@jupyter-widgets/controls",
            "_model_module_version": "1.5.0",
            "_model_name": "HTMLModel",
            "_view_count": null,
            "_view_module": "@jupyter-widgets/controls",
            "_view_module_version": "1.5.0",
            "_view_name": "HTMLView",
            "description": "",
            "description_tooltip": null,
            "layout": "IPY_MODEL_dd347ba353824b37adc7650d5424847c",
            "placeholder": "​",
            "style": "IPY_MODEL_88560dbf1f114353b63a1bb8fa8add5b",
            "value": "config.json: 100%"
          }
        },
        "9ff26b13943e4dc19494692a85d28e07": {
          "model_module": "@jupyter-widgets/controls",
          "model_name": "FloatProgressModel",
          "model_module_version": "1.5.0",
          "state": {
            "_dom_classes": [],
            "_model_module": "@jupyter-widgets/controls",
            "_model_module_version": "1.5.0",
            "_model_name": "FloatProgressModel",
            "_view_count": null,
            "_view_module": "@jupyter-widgets/controls",
            "_view_module_version": "1.5.0",
            "_view_name": "ProgressView",
            "bar_style": "success",
            "description": "",
            "description_tooltip": null,
            "layout": "IPY_MODEL_7eaccaa501cb4f598bfe810b60376be8",
            "max": 570,
            "min": 0,
            "orientation": "horizontal",
            "style": "IPY_MODEL_6e7d7658831147acbf69063ec509bde2",
            "value": 570
          }
        },
        "3b0bd651f54a447c9cca2b7fa046c77e": {
          "model_module": "@jupyter-widgets/controls",
          "model_name": "HTMLModel",
          "model_module_version": "1.5.0",
          "state": {
            "_dom_classes": [],
            "_model_module": "@jupyter-widgets/controls",
            "_model_module_version": "1.5.0",
            "_model_name": "HTMLModel",
            "_view_count": null,
            "_view_module": "@jupyter-widgets/controls",
            "_view_module_version": "1.5.0",
            "_view_name": "HTMLView",
            "description": "",
            "description_tooltip": null,
            "layout": "IPY_MODEL_444a4779292e41fd9c0c144801cbe64e",
            "placeholder": "​",
            "style": "IPY_MODEL_6cc897bf079244609c3e8aee1c30d27e",
            "value": " 570/570 [00:00&lt;00:00, 18.6kB/s]"
          }
        },
        "c47fb1bbe9ed4bd5841880f1989d4ea5": {
          "model_module": "@jupyter-widgets/base",
          "model_name": "LayoutModel",
          "model_module_version": "1.2.0",
          "state": {
            "_model_module": "@jupyter-widgets/base",
            "_model_module_version": "1.2.0",
            "_model_name": "LayoutModel",
            "_view_count": null,
            "_view_module": "@jupyter-widgets/base",
            "_view_module_version": "1.2.0",
            "_view_name": "LayoutView",
            "align_content": null,
            "align_items": null,
            "align_self": null,
            "border": null,
            "bottom": null,
            "display": null,
            "flex": null,
            "flex_flow": null,
            "grid_area": null,
            "grid_auto_columns": null,
            "grid_auto_flow": null,
            "grid_auto_rows": null,
            "grid_column": null,
            "grid_gap": null,
            "grid_row": null,
            "grid_template_areas": null,
            "grid_template_columns": null,
            "grid_template_rows": null,
            "height": null,
            "justify_content": null,
            "justify_items": null,
            "left": null,
            "margin": null,
            "max_height": null,
            "max_width": null,
            "min_height": null,
            "min_width": null,
            "object_fit": null,
            "object_position": null,
            "order": null,
            "overflow": null,
            "overflow_x": null,
            "overflow_y": null,
            "padding": null,
            "right": null,
            "top": null,
            "visibility": null,
            "width": null
          }
        },
        "dd347ba353824b37adc7650d5424847c": {
          "model_module": "@jupyter-widgets/base",
          "model_name": "LayoutModel",
          "model_module_version": "1.2.0",
          "state": {
            "_model_module": "@jupyter-widgets/base",
            "_model_module_version": "1.2.0",
            "_model_name": "LayoutModel",
            "_view_count": null,
            "_view_module": "@jupyter-widgets/base",
            "_view_module_version": "1.2.0",
            "_view_name": "LayoutView",
            "align_content": null,
            "align_items": null,
            "align_self": null,
            "border": null,
            "bottom": null,
            "display": null,
            "flex": null,
            "flex_flow": null,
            "grid_area": null,
            "grid_auto_columns": null,
            "grid_auto_flow": null,
            "grid_auto_rows": null,
            "grid_column": null,
            "grid_gap": null,
            "grid_row": null,
            "grid_template_areas": null,
            "grid_template_columns": null,
            "grid_template_rows": null,
            "height": null,
            "justify_content": null,
            "justify_items": null,
            "left": null,
            "margin": null,
            "max_height": null,
            "max_width": null,
            "min_height": null,
            "min_width": null,
            "object_fit": null,
            "object_position": null,
            "order": null,
            "overflow": null,
            "overflow_x": null,
            "overflow_y": null,
            "padding": null,
            "right": null,
            "top": null,
            "visibility": null,
            "width": null
          }
        },
        "88560dbf1f114353b63a1bb8fa8add5b": {
          "model_module": "@jupyter-widgets/controls",
          "model_name": "DescriptionStyleModel",
          "model_module_version": "1.5.0",
          "state": {
            "_model_module": "@jupyter-widgets/controls",
            "_model_module_version": "1.5.0",
            "_model_name": "DescriptionStyleModel",
            "_view_count": null,
            "_view_module": "@jupyter-widgets/base",
            "_view_module_version": "1.2.0",
            "_view_name": "StyleView",
            "description_width": ""
          }
        },
        "7eaccaa501cb4f598bfe810b60376be8": {
          "model_module": "@jupyter-widgets/base",
          "model_name": "LayoutModel",
          "model_module_version": "1.2.0",
          "state": {
            "_model_module": "@jupyter-widgets/base",
            "_model_module_version": "1.2.0",
            "_model_name": "LayoutModel",
            "_view_count": null,
            "_view_module": "@jupyter-widgets/base",
            "_view_module_version": "1.2.0",
            "_view_name": "LayoutView",
            "align_content": null,
            "align_items": null,
            "align_self": null,
            "border": null,
            "bottom": null,
            "display": null,
            "flex": null,
            "flex_flow": null,
            "grid_area": null,
            "grid_auto_columns": null,
            "grid_auto_flow": null,
            "grid_auto_rows": null,
            "grid_column": null,
            "grid_gap": null,
            "grid_row": null,
            "grid_template_areas": null,
            "grid_template_columns": null,
            "grid_template_rows": null,
            "height": null,
            "justify_content": null,
            "justify_items": null,
            "left": null,
            "margin": null,
            "max_height": null,
            "max_width": null,
            "min_height": null,
            "min_width": null,
            "object_fit": null,
            "object_position": null,
            "order": null,
            "overflow": null,
            "overflow_x": null,
            "overflow_y": null,
            "padding": null,
            "right": null,
            "top": null,
            "visibility": null,
            "width": null
          }
        },
        "6e7d7658831147acbf69063ec509bde2": {
          "model_module": "@jupyter-widgets/controls",
          "model_name": "ProgressStyleModel",
          "model_module_version": "1.5.0",
          "state": {
            "_model_module": "@jupyter-widgets/controls",
            "_model_module_version": "1.5.0",
            "_model_name": "ProgressStyleModel",
            "_view_count": null,
            "_view_module": "@jupyter-widgets/base",
            "_view_module_version": "1.2.0",
            "_view_name": "StyleView",
            "bar_color": null,
            "description_width": ""
          }
        },
        "444a4779292e41fd9c0c144801cbe64e": {
          "model_module": "@jupyter-widgets/base",
          "model_name": "LayoutModel",
          "model_module_version": "1.2.0",
          "state": {
            "_model_module": "@jupyter-widgets/base",
            "_model_module_version": "1.2.0",
            "_model_name": "LayoutModel",
            "_view_count": null,
            "_view_module": "@jupyter-widgets/base",
            "_view_module_version": "1.2.0",
            "_view_name": "LayoutView",
            "align_content": null,
            "align_items": null,
            "align_self": null,
            "border": null,
            "bottom": null,
            "display": null,
            "flex": null,
            "flex_flow": null,
            "grid_area": null,
            "grid_auto_columns": null,
            "grid_auto_flow": null,
            "grid_auto_rows": null,
            "grid_column": null,
            "grid_gap": null,
            "grid_row": null,
            "grid_template_areas": null,
            "grid_template_columns": null,
            "grid_template_rows": null,
            "height": null,
            "justify_content": null,
            "justify_items": null,
            "left": null,
            "margin": null,
            "max_height": null,
            "max_width": null,
            "min_height": null,
            "min_width": null,
            "object_fit": null,
            "object_position": null,
            "order": null,
            "overflow": null,
            "overflow_x": null,
            "overflow_y": null,
            "padding": null,
            "right": null,
            "top": null,
            "visibility": null,
            "width": null
          }
        },
        "6cc897bf079244609c3e8aee1c30d27e": {
          "model_module": "@jupyter-widgets/controls",
          "model_name": "DescriptionStyleModel",
          "model_module_version": "1.5.0",
          "state": {
            "_model_module": "@jupyter-widgets/controls",
            "_model_module_version": "1.5.0",
            "_model_name": "DescriptionStyleModel",
            "_view_count": null,
            "_view_module": "@jupyter-widgets/base",
            "_view_module_version": "1.2.0",
            "_view_name": "StyleView",
            "description_width": ""
          }
        },
        "d5c9527ba8ad4d78b81aa1de8af1fc17": {
          "model_module": "@jupyter-widgets/controls",
          "model_name": "HBoxModel",
          "model_module_version": "1.5.0",
          "state": {
            "_dom_classes": [],
            "_model_module": "@jupyter-widgets/controls",
            "_model_module_version": "1.5.0",
            "_model_name": "HBoxModel",
            "_view_count": null,
            "_view_module": "@jupyter-widgets/controls",
            "_view_module_version": "1.5.0",
            "_view_name": "HBoxView",
            "box_style": "",
            "children": [
              "IPY_MODEL_5f6a31d2be324d93b35c0c0d33bc54db",
              "IPY_MODEL_f2e7c9cc85d34acf9b3f7b71cef81197",
              "IPY_MODEL_907e26f3a83345bc94abf9c4d0689d4c"
            ],
            "layout": "IPY_MODEL_bae5ea9ff18942049252429d44f83a46"
          }
        },
        "5f6a31d2be324d93b35c0c0d33bc54db": {
          "model_module": "@jupyter-widgets/controls",
          "model_name": "HTMLModel",
          "model_module_version": "1.5.0",
          "state": {
            "_dom_classes": [],
            "_model_module": "@jupyter-widgets/controls",
            "_model_module_version": "1.5.0",
            "_model_name": "HTMLModel",
            "_view_count": null,
            "_view_module": "@jupyter-widgets/controls",
            "_view_module_version": "1.5.0",
            "_view_name": "HTMLView",
            "description": "",
            "description_tooltip": null,
            "layout": "IPY_MODEL_89b1f3c89c1d4785bf9a1e0f7ba9a1ae",
            "placeholder": "​",
            "style": "IPY_MODEL_388dc4602eb443ffac62c78cfbdb276c",
            "value": "vocab.txt: 100%"
          }
        },
        "f2e7c9cc85d34acf9b3f7b71cef81197": {
          "model_module": "@jupyter-widgets/controls",
          "model_name": "FloatProgressModel",
          "model_module_version": "1.5.0",
          "state": {
            "_dom_classes": [],
            "_model_module": "@jupyter-widgets/controls",
            "_model_module_version": "1.5.0",
            "_model_name": "FloatProgressModel",
            "_view_count": null,
            "_view_module": "@jupyter-widgets/controls",
            "_view_module_version": "1.5.0",
            "_view_name": "ProgressView",
            "bar_style": "success",
            "description": "",
            "description_tooltip": null,
            "layout": "IPY_MODEL_c2dcbfc40f0347f7a935e1e75cabc80d",
            "max": 213450,
            "min": 0,
            "orientation": "horizontal",
            "style": "IPY_MODEL_1a7ae7ff630643e897aab90ef9515678",
            "value": 213450
          }
        },
        "907e26f3a83345bc94abf9c4d0689d4c": {
          "model_module": "@jupyter-widgets/controls",
          "model_name": "HTMLModel",
          "model_module_version": "1.5.0",
          "state": {
            "_dom_classes": [],
            "_model_module": "@jupyter-widgets/controls",
            "_model_module_version": "1.5.0",
            "_model_name": "HTMLModel",
            "_view_count": null,
            "_view_module": "@jupyter-widgets/controls",
            "_view_module_version": "1.5.0",
            "_view_name": "HTMLView",
            "description": "",
            "description_tooltip": null,
            "layout": "IPY_MODEL_2c75bbd7dce34588b19b409aafe28baa",
            "placeholder": "​",
            "style": "IPY_MODEL_d9a988b4b96a494ca579312ae0250f71",
            "value": " 213k/213k [00:00&lt;00:00, 5.99MB/s]"
          }
        },
        "bae5ea9ff18942049252429d44f83a46": {
          "model_module": "@jupyter-widgets/base",
          "model_name": "LayoutModel",
          "model_module_version": "1.2.0",
          "state": {
            "_model_module": "@jupyter-widgets/base",
            "_model_module_version": "1.2.0",
            "_model_name": "LayoutModel",
            "_view_count": null,
            "_view_module": "@jupyter-widgets/base",
            "_view_module_version": "1.2.0",
            "_view_name": "LayoutView",
            "align_content": null,
            "align_items": null,
            "align_self": null,
            "border": null,
            "bottom": null,
            "display": null,
            "flex": null,
            "flex_flow": null,
            "grid_area": null,
            "grid_auto_columns": null,
            "grid_auto_flow": null,
            "grid_auto_rows": null,
            "grid_column": null,
            "grid_gap": null,
            "grid_row": null,
            "grid_template_areas": null,
            "grid_template_columns": null,
            "grid_template_rows": null,
            "height": null,
            "justify_content": null,
            "justify_items": null,
            "left": null,
            "margin": null,
            "max_height": null,
            "max_width": null,
            "min_height": null,
            "min_width": null,
            "object_fit": null,
            "object_position": null,
            "order": null,
            "overflow": null,
            "overflow_x": null,
            "overflow_y": null,
            "padding": null,
            "right": null,
            "top": null,
            "visibility": null,
            "width": null
          }
        },
        "89b1f3c89c1d4785bf9a1e0f7ba9a1ae": {
          "model_module": "@jupyter-widgets/base",
          "model_name": "LayoutModel",
          "model_module_version": "1.2.0",
          "state": {
            "_model_module": "@jupyter-widgets/base",
            "_model_module_version": "1.2.0",
            "_model_name": "LayoutModel",
            "_view_count": null,
            "_view_module": "@jupyter-widgets/base",
            "_view_module_version": "1.2.0",
            "_view_name": "LayoutView",
            "align_content": null,
            "align_items": null,
            "align_self": null,
            "border": null,
            "bottom": null,
            "display": null,
            "flex": null,
            "flex_flow": null,
            "grid_area": null,
            "grid_auto_columns": null,
            "grid_auto_flow": null,
            "grid_auto_rows": null,
            "grid_column": null,
            "grid_gap": null,
            "grid_row": null,
            "grid_template_areas": null,
            "grid_template_columns": null,
            "grid_template_rows": null,
            "height": null,
            "justify_content": null,
            "justify_items": null,
            "left": null,
            "margin": null,
            "max_height": null,
            "max_width": null,
            "min_height": null,
            "min_width": null,
            "object_fit": null,
            "object_position": null,
            "order": null,
            "overflow": null,
            "overflow_x": null,
            "overflow_y": null,
            "padding": null,
            "right": null,
            "top": null,
            "visibility": null,
            "width": null
          }
        },
        "388dc4602eb443ffac62c78cfbdb276c": {
          "model_module": "@jupyter-widgets/controls",
          "model_name": "DescriptionStyleModel",
          "model_module_version": "1.5.0",
          "state": {
            "_model_module": "@jupyter-widgets/controls",
            "_model_module_version": "1.5.0",
            "_model_name": "DescriptionStyleModel",
            "_view_count": null,
            "_view_module": "@jupyter-widgets/base",
            "_view_module_version": "1.2.0",
            "_view_name": "StyleView",
            "description_width": ""
          }
        },
        "c2dcbfc40f0347f7a935e1e75cabc80d": {
          "model_module": "@jupyter-widgets/base",
          "model_name": "LayoutModel",
          "model_module_version": "1.2.0",
          "state": {
            "_model_module": "@jupyter-widgets/base",
            "_model_module_version": "1.2.0",
            "_model_name": "LayoutModel",
            "_view_count": null,
            "_view_module": "@jupyter-widgets/base",
            "_view_module_version": "1.2.0",
            "_view_name": "LayoutView",
            "align_content": null,
            "align_items": null,
            "align_self": null,
            "border": null,
            "bottom": null,
            "display": null,
            "flex": null,
            "flex_flow": null,
            "grid_area": null,
            "grid_auto_columns": null,
            "grid_auto_flow": null,
            "grid_auto_rows": null,
            "grid_column": null,
            "grid_gap": null,
            "grid_row": null,
            "grid_template_areas": null,
            "grid_template_columns": null,
            "grid_template_rows": null,
            "height": null,
            "justify_content": null,
            "justify_items": null,
            "left": null,
            "margin": null,
            "max_height": null,
            "max_width": null,
            "min_height": null,
            "min_width": null,
            "object_fit": null,
            "object_position": null,
            "order": null,
            "overflow": null,
            "overflow_x": null,
            "overflow_y": null,
            "padding": null,
            "right": null,
            "top": null,
            "visibility": null,
            "width": null
          }
        },
        "1a7ae7ff630643e897aab90ef9515678": {
          "model_module": "@jupyter-widgets/controls",
          "model_name": "ProgressStyleModel",
          "model_module_version": "1.5.0",
          "state": {
            "_model_module": "@jupyter-widgets/controls",
            "_model_module_version": "1.5.0",
            "_model_name": "ProgressStyleModel",
            "_view_count": null,
            "_view_module": "@jupyter-widgets/base",
            "_view_module_version": "1.2.0",
            "_view_name": "StyleView",
            "bar_color": null,
            "description_width": ""
          }
        },
        "2c75bbd7dce34588b19b409aafe28baa": {
          "model_module": "@jupyter-widgets/base",
          "model_name": "LayoutModel",
          "model_module_version": "1.2.0",
          "state": {
            "_model_module": "@jupyter-widgets/base",
            "_model_module_version": "1.2.0",
            "_model_name": "LayoutModel",
            "_view_count": null,
            "_view_module": "@jupyter-widgets/base",
            "_view_module_version": "1.2.0",
            "_view_name": "LayoutView",
            "align_content": null,
            "align_items": null,
            "align_self": null,
            "border": null,
            "bottom": null,
            "display": null,
            "flex": null,
            "flex_flow": null,
            "grid_area": null,
            "grid_auto_columns": null,
            "grid_auto_flow": null,
            "grid_auto_rows": null,
            "grid_column": null,
            "grid_gap": null,
            "grid_row": null,
            "grid_template_areas": null,
            "grid_template_columns": null,
            "grid_template_rows": null,
            "height": null,
            "justify_content": null,
            "justify_items": null,
            "left": null,
            "margin": null,
            "max_height": null,
            "max_width": null,
            "min_height": null,
            "min_width": null,
            "object_fit": null,
            "object_position": null,
            "order": null,
            "overflow": null,
            "overflow_x": null,
            "overflow_y": null,
            "padding": null,
            "right": null,
            "top": null,
            "visibility": null,
            "width": null
          }
        },
        "d9a988b4b96a494ca579312ae0250f71": {
          "model_module": "@jupyter-widgets/controls",
          "model_name": "DescriptionStyleModel",
          "model_module_version": "1.5.0",
          "state": {
            "_model_module": "@jupyter-widgets/controls",
            "_model_module_version": "1.5.0",
            "_model_name": "DescriptionStyleModel",
            "_view_count": null,
            "_view_module": "@jupyter-widgets/base",
            "_view_module_version": "1.2.0",
            "_view_name": "StyleView",
            "description_width": ""
          }
        },
        "86c7aed796e244c4b5571869e1b0d629": {
          "model_module": "@jupyter-widgets/controls",
          "model_name": "HBoxModel",
          "model_module_version": "1.5.0",
          "state": {
            "_dom_classes": [],
            "_model_module": "@jupyter-widgets/controls",
            "_model_module_version": "1.5.0",
            "_model_name": "HBoxModel",
            "_view_count": null,
            "_view_module": "@jupyter-widgets/controls",
            "_view_module_version": "1.5.0",
            "_view_name": "HBoxView",
            "box_style": "",
            "children": [
              "IPY_MODEL_90a1934fadd240e3845500ee1c663bc3",
              "IPY_MODEL_23c2cab54fc94dddb3e21b678fbb5dac",
              "IPY_MODEL_14ef5862cddc42b1a6984fb3ae6d3faa"
            ],
            "layout": "IPY_MODEL_6c476c20ae024b149291f33dcaea1ed3"
          }
        },
        "90a1934fadd240e3845500ee1c663bc3": {
          "model_module": "@jupyter-widgets/controls",
          "model_name": "HTMLModel",
          "model_module_version": "1.5.0",
          "state": {
            "_dom_classes": [],
            "_model_module": "@jupyter-widgets/controls",
            "_model_module_version": "1.5.0",
            "_model_name": "HTMLModel",
            "_view_count": null,
            "_view_module": "@jupyter-widgets/controls",
            "_view_module_version": "1.5.0",
            "_view_name": "HTMLView",
            "description": "",
            "description_tooltip": null,
            "layout": "IPY_MODEL_8f377a6ee4024312b32207a599b2e690",
            "placeholder": "​",
            "style": "IPY_MODEL_26097def0dc94e6fa30e10993bfd5ae4",
            "value": "tokenizer.json: 100%"
          }
        },
        "23c2cab54fc94dddb3e21b678fbb5dac": {
          "model_module": "@jupyter-widgets/controls",
          "model_name": "FloatProgressModel",
          "model_module_version": "1.5.0",
          "state": {
            "_dom_classes": [],
            "_model_module": "@jupyter-widgets/controls",
            "_model_module_version": "1.5.0",
            "_model_name": "FloatProgressModel",
            "_view_count": null,
            "_view_module": "@jupyter-widgets/controls",
            "_view_module_version": "1.5.0",
            "_view_name": "ProgressView",
            "bar_style": "success",
            "description": "",
            "description_tooltip": null,
            "layout": "IPY_MODEL_3d2ee48e9ec542108aaefe003f9e63d9",
            "max": 435797,
            "min": 0,
            "orientation": "horizontal",
            "style": "IPY_MODEL_3922c2afbc494ba0b998028bbf7b1852",
            "value": 435797
          }
        },
        "14ef5862cddc42b1a6984fb3ae6d3faa": {
          "model_module": "@jupyter-widgets/controls",
          "model_name": "HTMLModel",
          "model_module_version": "1.5.0",
          "state": {
            "_dom_classes": [],
            "_model_module": "@jupyter-widgets/controls",
            "_model_module_version": "1.5.0",
            "_model_name": "HTMLModel",
            "_view_count": null,
            "_view_module": "@jupyter-widgets/controls",
            "_view_module_version": "1.5.0",
            "_view_name": "HTMLView",
            "description": "",
            "description_tooltip": null,
            "layout": "IPY_MODEL_c500792a6b62445f8a861af4726cc301",
            "placeholder": "​",
            "style": "IPY_MODEL_7435d68af86d46eea0dc9a3b77d7007c",
            "value": " 436k/436k [00:00&lt;00:00, 4.17MB/s]"
          }
        },
        "6c476c20ae024b149291f33dcaea1ed3": {
          "model_module": "@jupyter-widgets/base",
          "model_name": "LayoutModel",
          "model_module_version": "1.2.0",
          "state": {
            "_model_module": "@jupyter-widgets/base",
            "_model_module_version": "1.2.0",
            "_model_name": "LayoutModel",
            "_view_count": null,
            "_view_module": "@jupyter-widgets/base",
            "_view_module_version": "1.2.0",
            "_view_name": "LayoutView",
            "align_content": null,
            "align_items": null,
            "align_self": null,
            "border": null,
            "bottom": null,
            "display": null,
            "flex": null,
            "flex_flow": null,
            "grid_area": null,
            "grid_auto_columns": null,
            "grid_auto_flow": null,
            "grid_auto_rows": null,
            "grid_column": null,
            "grid_gap": null,
            "grid_row": null,
            "grid_template_areas": null,
            "grid_template_columns": null,
            "grid_template_rows": null,
            "height": null,
            "justify_content": null,
            "justify_items": null,
            "left": null,
            "margin": null,
            "max_height": null,
            "max_width": null,
            "min_height": null,
            "min_width": null,
            "object_fit": null,
            "object_position": null,
            "order": null,
            "overflow": null,
            "overflow_x": null,
            "overflow_y": null,
            "padding": null,
            "right": null,
            "top": null,
            "visibility": null,
            "width": null
          }
        },
        "8f377a6ee4024312b32207a599b2e690": {
          "model_module": "@jupyter-widgets/base",
          "model_name": "LayoutModel",
          "model_module_version": "1.2.0",
          "state": {
            "_model_module": "@jupyter-widgets/base",
            "_model_module_version": "1.2.0",
            "_model_name": "LayoutModel",
            "_view_count": null,
            "_view_module": "@jupyter-widgets/base",
            "_view_module_version": "1.2.0",
            "_view_name": "LayoutView",
            "align_content": null,
            "align_items": null,
            "align_self": null,
            "border": null,
            "bottom": null,
            "display": null,
            "flex": null,
            "flex_flow": null,
            "grid_area": null,
            "grid_auto_columns": null,
            "grid_auto_flow": null,
            "grid_auto_rows": null,
            "grid_column": null,
            "grid_gap": null,
            "grid_row": null,
            "grid_template_areas": null,
            "grid_template_columns": null,
            "grid_template_rows": null,
            "height": null,
            "justify_content": null,
            "justify_items": null,
            "left": null,
            "margin": null,
            "max_height": null,
            "max_width": null,
            "min_height": null,
            "min_width": null,
            "object_fit": null,
            "object_position": null,
            "order": null,
            "overflow": null,
            "overflow_x": null,
            "overflow_y": null,
            "padding": null,
            "right": null,
            "top": null,
            "visibility": null,
            "width": null
          }
        },
        "26097def0dc94e6fa30e10993bfd5ae4": {
          "model_module": "@jupyter-widgets/controls",
          "model_name": "DescriptionStyleModel",
          "model_module_version": "1.5.0",
          "state": {
            "_model_module": "@jupyter-widgets/controls",
            "_model_module_version": "1.5.0",
            "_model_name": "DescriptionStyleModel",
            "_view_count": null,
            "_view_module": "@jupyter-widgets/base",
            "_view_module_version": "1.2.0",
            "_view_name": "StyleView",
            "description_width": ""
          }
        },
        "3d2ee48e9ec542108aaefe003f9e63d9": {
          "model_module": "@jupyter-widgets/base",
          "model_name": "LayoutModel",
          "model_module_version": "1.2.0",
          "state": {
            "_model_module": "@jupyter-widgets/base",
            "_model_module_version": "1.2.0",
            "_model_name": "LayoutModel",
            "_view_count": null,
            "_view_module": "@jupyter-widgets/base",
            "_view_module_version": "1.2.0",
            "_view_name": "LayoutView",
            "align_content": null,
            "align_items": null,
            "align_self": null,
            "border": null,
            "bottom": null,
            "display": null,
            "flex": null,
            "flex_flow": null,
            "grid_area": null,
            "grid_auto_columns": null,
            "grid_auto_flow": null,
            "grid_auto_rows": null,
            "grid_column": null,
            "grid_gap": null,
            "grid_row": null,
            "grid_template_areas": null,
            "grid_template_columns": null,
            "grid_template_rows": null,
            "height": null,
            "justify_content": null,
            "justify_items": null,
            "left": null,
            "margin": null,
            "max_height": null,
            "max_width": null,
            "min_height": null,
            "min_width": null,
            "object_fit": null,
            "object_position": null,
            "order": null,
            "overflow": null,
            "overflow_x": null,
            "overflow_y": null,
            "padding": null,
            "right": null,
            "top": null,
            "visibility": null,
            "width": null
          }
        },
        "3922c2afbc494ba0b998028bbf7b1852": {
          "model_module": "@jupyter-widgets/controls",
          "model_name": "ProgressStyleModel",
          "model_module_version": "1.5.0",
          "state": {
            "_model_module": "@jupyter-widgets/controls",
            "_model_module_version": "1.5.0",
            "_model_name": "ProgressStyleModel",
            "_view_count": null,
            "_view_module": "@jupyter-widgets/base",
            "_view_module_version": "1.2.0",
            "_view_name": "StyleView",
            "bar_color": null,
            "description_width": ""
          }
        },
        "c500792a6b62445f8a861af4726cc301": {
          "model_module": "@jupyter-widgets/base",
          "model_name": "LayoutModel",
          "model_module_version": "1.2.0",
          "state": {
            "_model_module": "@jupyter-widgets/base",
            "_model_module_version": "1.2.0",
            "_model_name": "LayoutModel",
            "_view_count": null,
            "_view_module": "@jupyter-widgets/base",
            "_view_module_version": "1.2.0",
            "_view_name": "LayoutView",
            "align_content": null,
            "align_items": null,
            "align_self": null,
            "border": null,
            "bottom": null,
            "display": null,
            "flex": null,
            "flex_flow": null,
            "grid_area": null,
            "grid_auto_columns": null,
            "grid_auto_flow": null,
            "grid_auto_rows": null,
            "grid_column": null,
            "grid_gap": null,
            "grid_row": null,
            "grid_template_areas": null,
            "grid_template_columns": null,
            "grid_template_rows": null,
            "height": null,
            "justify_content": null,
            "justify_items": null,
            "left": null,
            "margin": null,
            "max_height": null,
            "max_width": null,
            "min_height": null,
            "min_width": null,
            "object_fit": null,
            "object_position": null,
            "order": null,
            "overflow": null,
            "overflow_x": null,
            "overflow_y": null,
            "padding": null,
            "right": null,
            "top": null,
            "visibility": null,
            "width": null
          }
        },
        "7435d68af86d46eea0dc9a3b77d7007c": {
          "model_module": "@jupyter-widgets/controls",
          "model_name": "DescriptionStyleModel",
          "model_module_version": "1.5.0",
          "state": {
            "_model_module": "@jupyter-widgets/controls",
            "_model_module_version": "1.5.0",
            "_model_name": "DescriptionStyleModel",
            "_view_count": null,
            "_view_module": "@jupyter-widgets/base",
            "_view_module_version": "1.2.0",
            "_view_name": "StyleView",
            "description_width": ""
          }
        },
        "9b2a5da8ef6b48c3a9675deee8e142d3": {
          "model_module": "@jupyter-widgets/controls",
          "model_name": "HBoxModel",
          "model_module_version": "1.5.0",
          "state": {
            "_dom_classes": [],
            "_model_module": "@jupyter-widgets/controls",
            "_model_module_version": "1.5.0",
            "_model_name": "HBoxModel",
            "_view_count": null,
            "_view_module": "@jupyter-widgets/controls",
            "_view_module_version": "1.5.0",
            "_view_name": "HBoxView",
            "box_style": "",
            "children": [
              "IPY_MODEL_a1daa9b78356466e9e70d086da468e2b",
              "IPY_MODEL_c802710353804cd3a187fdc112f1139f",
              "IPY_MODEL_ef4fe04ca3c94dfaada6dfbdde2bce43"
            ],
            "layout": "IPY_MODEL_1a82ffc68faa47febc4e1cf95086b20e"
          }
        },
        "a1daa9b78356466e9e70d086da468e2b": {
          "model_module": "@jupyter-widgets/controls",
          "model_name": "HTMLModel",
          "model_module_version": "1.5.0",
          "state": {
            "_dom_classes": [],
            "_model_module": "@jupyter-widgets/controls",
            "_model_module_version": "1.5.0",
            "_model_name": "HTMLModel",
            "_view_count": null,
            "_view_module": "@jupyter-widgets/controls",
            "_view_module_version": "1.5.0",
            "_view_name": "HTMLView",
            "description": "",
            "description_tooltip": null,
            "layout": "IPY_MODEL_244501db1f7947f2a3df6b176c337798",
            "placeholder": "​",
            "style": "IPY_MODEL_8c218ffa68ff4f4191632dfec7a558ad",
            "value": "config.json: 100%"
          }
        },
        "c802710353804cd3a187fdc112f1139f": {
          "model_module": "@jupyter-widgets/controls",
          "model_name": "FloatProgressModel",
          "model_module_version": "1.5.0",
          "state": {
            "_dom_classes": [],
            "_model_module": "@jupyter-widgets/controls",
            "_model_module_version": "1.5.0",
            "_model_name": "FloatProgressModel",
            "_view_count": null,
            "_view_module": "@jupyter-widgets/controls",
            "_view_module_version": "1.5.0",
            "_view_name": "ProgressView",
            "bar_style": "success",
            "description": "",
            "description_tooltip": null,
            "layout": "IPY_MODEL_7dd43423a8fd45ec94086e6d777f627a",
            "max": 998,
            "min": 0,
            "orientation": "horizontal",
            "style": "IPY_MODEL_cf05c629e8684659942f66a39c96f274",
            "value": 998
          }
        },
        "ef4fe04ca3c94dfaada6dfbdde2bce43": {
          "model_module": "@jupyter-widgets/controls",
          "model_name": "HTMLModel",
          "model_module_version": "1.5.0",
          "state": {
            "_dom_classes": [],
            "_model_module": "@jupyter-widgets/controls",
            "_model_module_version": "1.5.0",
            "_model_name": "HTMLModel",
            "_view_count": null,
            "_view_module": "@jupyter-widgets/controls",
            "_view_module_version": "1.5.0",
            "_view_name": "HTMLView",
            "description": "",
            "description_tooltip": null,
            "layout": "IPY_MODEL_0905609c71f14302bd8ddc57f601ff33",
            "placeholder": "​",
            "style": "IPY_MODEL_bfa2a338e46f42998c54fcf0572abbde",
            "value": " 998/998 [00:00&lt;00:00, 60.0kB/s]"
          }
        },
        "1a82ffc68faa47febc4e1cf95086b20e": {
          "model_module": "@jupyter-widgets/base",
          "model_name": "LayoutModel",
          "model_module_version": "1.2.0",
          "state": {
            "_model_module": "@jupyter-widgets/base",
            "_model_module_version": "1.2.0",
            "_model_name": "LayoutModel",
            "_view_count": null,
            "_view_module": "@jupyter-widgets/base",
            "_view_module_version": "1.2.0",
            "_view_name": "LayoutView",
            "align_content": null,
            "align_items": null,
            "align_self": null,
            "border": null,
            "bottom": null,
            "display": null,
            "flex": null,
            "flex_flow": null,
            "grid_area": null,
            "grid_auto_columns": null,
            "grid_auto_flow": null,
            "grid_auto_rows": null,
            "grid_column": null,
            "grid_gap": null,
            "grid_row": null,
            "grid_template_areas": null,
            "grid_template_columns": null,
            "grid_template_rows": null,
            "height": null,
            "justify_content": null,
            "justify_items": null,
            "left": null,
            "margin": null,
            "max_height": null,
            "max_width": null,
            "min_height": null,
            "min_width": null,
            "object_fit": null,
            "object_position": null,
            "order": null,
            "overflow": null,
            "overflow_x": null,
            "overflow_y": null,
            "padding": null,
            "right": null,
            "top": null,
            "visibility": null,
            "width": null
          }
        },
        "244501db1f7947f2a3df6b176c337798": {
          "model_module": "@jupyter-widgets/base",
          "model_name": "LayoutModel",
          "model_module_version": "1.2.0",
          "state": {
            "_model_module": "@jupyter-widgets/base",
            "_model_module_version": "1.2.0",
            "_model_name": "LayoutModel",
            "_view_count": null,
            "_view_module": "@jupyter-widgets/base",
            "_view_module_version": "1.2.0",
            "_view_name": "LayoutView",
            "align_content": null,
            "align_items": null,
            "align_self": null,
            "border": null,
            "bottom": null,
            "display": null,
            "flex": null,
            "flex_flow": null,
            "grid_area": null,
            "grid_auto_columns": null,
            "grid_auto_flow": null,
            "grid_auto_rows": null,
            "grid_column": null,
            "grid_gap": null,
            "grid_row": null,
            "grid_template_areas": null,
            "grid_template_columns": null,
            "grid_template_rows": null,
            "height": null,
            "justify_content": null,
            "justify_items": null,
            "left": null,
            "margin": null,
            "max_height": null,
            "max_width": null,
            "min_height": null,
            "min_width": null,
            "object_fit": null,
            "object_position": null,
            "order": null,
            "overflow": null,
            "overflow_x": null,
            "overflow_y": null,
            "padding": null,
            "right": null,
            "top": null,
            "visibility": null,
            "width": null
          }
        },
        "8c218ffa68ff4f4191632dfec7a558ad": {
          "model_module": "@jupyter-widgets/controls",
          "model_name": "DescriptionStyleModel",
          "model_module_version": "1.5.0",
          "state": {
            "_model_module": "@jupyter-widgets/controls",
            "_model_module_version": "1.5.0",
            "_model_name": "DescriptionStyleModel",
            "_view_count": null,
            "_view_module": "@jupyter-widgets/base",
            "_view_module_version": "1.2.0",
            "_view_name": "StyleView",
            "description_width": ""
          }
        },
        "7dd43423a8fd45ec94086e6d777f627a": {
          "model_module": "@jupyter-widgets/base",
          "model_name": "LayoutModel",
          "model_module_version": "1.2.0",
          "state": {
            "_model_module": "@jupyter-widgets/base",
            "_model_module_version": "1.2.0",
            "_model_name": "LayoutModel",
            "_view_count": null,
            "_view_module": "@jupyter-widgets/base",
            "_view_module_version": "1.2.0",
            "_view_name": "LayoutView",
            "align_content": null,
            "align_items": null,
            "align_self": null,
            "border": null,
            "bottom": null,
            "display": null,
            "flex": null,
            "flex_flow": null,
            "grid_area": null,
            "grid_auto_columns": null,
            "grid_auto_flow": null,
            "grid_auto_rows": null,
            "grid_column": null,
            "grid_gap": null,
            "grid_row": null,
            "grid_template_areas": null,
            "grid_template_columns": null,
            "grid_template_rows": null,
            "height": null,
            "justify_content": null,
            "justify_items": null,
            "left": null,
            "margin": null,
            "max_height": null,
            "max_width": null,
            "min_height": null,
            "min_width": null,
            "object_fit": null,
            "object_position": null,
            "order": null,
            "overflow": null,
            "overflow_x": null,
            "overflow_y": null,
            "padding": null,
            "right": null,
            "top": null,
            "visibility": null,
            "width": null
          }
        },
        "cf05c629e8684659942f66a39c96f274": {
          "model_module": "@jupyter-widgets/controls",
          "model_name": "ProgressStyleModel",
          "model_module_version": "1.5.0",
          "state": {
            "_model_module": "@jupyter-widgets/controls",
            "_model_module_version": "1.5.0",
            "_model_name": "ProgressStyleModel",
            "_view_count": null,
            "_view_module": "@jupyter-widgets/base",
            "_view_module_version": "1.2.0",
            "_view_name": "StyleView",
            "bar_color": null,
            "description_width": ""
          }
        },
        "0905609c71f14302bd8ddc57f601ff33": {
          "model_module": "@jupyter-widgets/base",
          "model_name": "LayoutModel",
          "model_module_version": "1.2.0",
          "state": {
            "_model_module": "@jupyter-widgets/base",
            "_model_module_version": "1.2.0",
            "_model_name": "LayoutModel",
            "_view_count": null,
            "_view_module": "@jupyter-widgets/base",
            "_view_module_version": "1.2.0",
            "_view_name": "LayoutView",
            "align_content": null,
            "align_items": null,
            "align_self": null,
            "border": null,
            "bottom": null,
            "display": null,
            "flex": null,
            "flex_flow": null,
            "grid_area": null,
            "grid_auto_columns": null,
            "grid_auto_flow": null,
            "grid_auto_rows": null,
            "grid_column": null,
            "grid_gap": null,
            "grid_row": null,
            "grid_template_areas": null,
            "grid_template_columns": null,
            "grid_template_rows": null,
            "height": null,
            "justify_content": null,
            "justify_items": null,
            "left": null,
            "margin": null,
            "max_height": null,
            "max_width": null,
            "min_height": null,
            "min_width": null,
            "object_fit": null,
            "object_position": null,
            "order": null,
            "overflow": null,
            "overflow_x": null,
            "overflow_y": null,
            "padding": null,
            "right": null,
            "top": null,
            "visibility": null,
            "width": null
          }
        },
        "bfa2a338e46f42998c54fcf0572abbde": {
          "model_module": "@jupyter-widgets/controls",
          "model_name": "DescriptionStyleModel",
          "model_module_version": "1.5.0",
          "state": {
            "_model_module": "@jupyter-widgets/controls",
            "_model_module_version": "1.5.0",
            "_model_name": "DescriptionStyleModel",
            "_view_count": null,
            "_view_module": "@jupyter-widgets/base",
            "_view_module_version": "1.2.0",
            "_view_name": "StyleView",
            "description_width": ""
          }
        },
        "699d761a2419464995976ddaf53a2f03": {
          "model_module": "@jupyter-widgets/controls",
          "model_name": "HBoxModel",
          "model_module_version": "1.5.0",
          "state": {
            "_dom_classes": [],
            "_model_module": "@jupyter-widgets/controls",
            "_model_module_version": "1.5.0",
            "_model_name": "HBoxModel",
            "_view_count": null,
            "_view_module": "@jupyter-widgets/controls",
            "_view_module_version": "1.5.0",
            "_view_name": "HBoxView",
            "box_style": "",
            "children": [
              "IPY_MODEL_b6b5ec148c994b598c9bf71d01d04643",
              "IPY_MODEL_5228dd12d9c44585947daf795027dced",
              "IPY_MODEL_4148a57d2e144b6097c9ef3597e82e58"
            ],
            "layout": "IPY_MODEL_49038a25cc2042ca9224378811595720"
          }
        },
        "b6b5ec148c994b598c9bf71d01d04643": {
          "model_module": "@jupyter-widgets/controls",
          "model_name": "HTMLModel",
          "model_module_version": "1.5.0",
          "state": {
            "_dom_classes": [],
            "_model_module": "@jupyter-widgets/controls",
            "_model_module_version": "1.5.0",
            "_model_name": "HTMLModel",
            "_view_count": null,
            "_view_module": "@jupyter-widgets/controls",
            "_view_module_version": "1.5.0",
            "_view_name": "HTMLView",
            "description": "",
            "description_tooltip": null,
            "layout": "IPY_MODEL_268db9e6c0934835b1008bf0ea7746d8",
            "placeholder": "​",
            "style": "IPY_MODEL_c788437e0ff94dc2a31dd0a3a98f197c",
            "value": "model.safetensors: 100%"
          }
        },
        "5228dd12d9c44585947daf795027dced": {
          "model_module": "@jupyter-widgets/controls",
          "model_name": "FloatProgressModel",
          "model_module_version": "1.5.0",
          "state": {
            "_dom_classes": [],
            "_model_module": "@jupyter-widgets/controls",
            "_model_module_version": "1.5.0",
            "_model_name": "FloatProgressModel",
            "_view_count": null,
            "_view_module": "@jupyter-widgets/controls",
            "_view_module_version": "1.5.0",
            "_view_name": "ProgressView",
            "bar_style": "success",
            "description": "",
            "description_tooltip": null,
            "layout": "IPY_MODEL_0d3c9f963f5e4fd68e61939dfd49c09d",
            "max": 1334400964,
            "min": 0,
            "orientation": "horizontal",
            "style": "IPY_MODEL_ad8e146ec2fb406c8d6e0e9f29b099a0",
            "value": 1334400964
          }
        },
        "4148a57d2e144b6097c9ef3597e82e58": {
          "model_module": "@jupyter-widgets/controls",
          "model_name": "HTMLModel",
          "model_module_version": "1.5.0",
          "state": {
            "_dom_classes": [],
            "_model_module": "@jupyter-widgets/controls",
            "_model_module_version": "1.5.0",
            "_model_name": "HTMLModel",
            "_view_count": null,
            "_view_module": "@jupyter-widgets/controls",
            "_view_module_version": "1.5.0",
            "_view_name": "HTMLView",
            "description": "",
            "description_tooltip": null,
            "layout": "IPY_MODEL_850f2efd4ff146d3a383e2fa0817052f",
            "placeholder": "​",
            "style": "IPY_MODEL_3c52f672aef34e56844702e11cfbf909",
            "value": " 1.33G/1.33G [00:05&lt;00:00, 215MB/s]"
          }
        },
        "49038a25cc2042ca9224378811595720": {
          "model_module": "@jupyter-widgets/base",
          "model_name": "LayoutModel",
          "model_module_version": "1.2.0",
          "state": {
            "_model_module": "@jupyter-widgets/base",
            "_model_module_version": "1.2.0",
            "_model_name": "LayoutModel",
            "_view_count": null,
            "_view_module": "@jupyter-widgets/base",
            "_view_module_version": "1.2.0",
            "_view_name": "LayoutView",
            "align_content": null,
            "align_items": null,
            "align_self": null,
            "border": null,
            "bottom": null,
            "display": null,
            "flex": null,
            "flex_flow": null,
            "grid_area": null,
            "grid_auto_columns": null,
            "grid_auto_flow": null,
            "grid_auto_rows": null,
            "grid_column": null,
            "grid_gap": null,
            "grid_row": null,
            "grid_template_areas": null,
            "grid_template_columns": null,
            "grid_template_rows": null,
            "height": null,
            "justify_content": null,
            "justify_items": null,
            "left": null,
            "margin": null,
            "max_height": null,
            "max_width": null,
            "min_height": null,
            "min_width": null,
            "object_fit": null,
            "object_position": null,
            "order": null,
            "overflow": null,
            "overflow_x": null,
            "overflow_y": null,
            "padding": null,
            "right": null,
            "top": null,
            "visibility": null,
            "width": null
          }
        },
        "268db9e6c0934835b1008bf0ea7746d8": {
          "model_module": "@jupyter-widgets/base",
          "model_name": "LayoutModel",
          "model_module_version": "1.2.0",
          "state": {
            "_model_module": "@jupyter-widgets/base",
            "_model_module_version": "1.2.0",
            "_model_name": "LayoutModel",
            "_view_count": null,
            "_view_module": "@jupyter-widgets/base",
            "_view_module_version": "1.2.0",
            "_view_name": "LayoutView",
            "align_content": null,
            "align_items": null,
            "align_self": null,
            "border": null,
            "bottom": null,
            "display": null,
            "flex": null,
            "flex_flow": null,
            "grid_area": null,
            "grid_auto_columns": null,
            "grid_auto_flow": null,
            "grid_auto_rows": null,
            "grid_column": null,
            "grid_gap": null,
            "grid_row": null,
            "grid_template_areas": null,
            "grid_template_columns": null,
            "grid_template_rows": null,
            "height": null,
            "justify_content": null,
            "justify_items": null,
            "left": null,
            "margin": null,
            "max_height": null,
            "max_width": null,
            "min_height": null,
            "min_width": null,
            "object_fit": null,
            "object_position": null,
            "order": null,
            "overflow": null,
            "overflow_x": null,
            "overflow_y": null,
            "padding": null,
            "right": null,
            "top": null,
            "visibility": null,
            "width": null
          }
        },
        "c788437e0ff94dc2a31dd0a3a98f197c": {
          "model_module": "@jupyter-widgets/controls",
          "model_name": "DescriptionStyleModel",
          "model_module_version": "1.5.0",
          "state": {
            "_model_module": "@jupyter-widgets/controls",
            "_model_module_version": "1.5.0",
            "_model_name": "DescriptionStyleModel",
            "_view_count": null,
            "_view_module": "@jupyter-widgets/base",
            "_view_module_version": "1.2.0",
            "_view_name": "StyleView",
            "description_width": ""
          }
        },
        "0d3c9f963f5e4fd68e61939dfd49c09d": {
          "model_module": "@jupyter-widgets/base",
          "model_name": "LayoutModel",
          "model_module_version": "1.2.0",
          "state": {
            "_model_module": "@jupyter-widgets/base",
            "_model_module_version": "1.2.0",
            "_model_name": "LayoutModel",
            "_view_count": null,
            "_view_module": "@jupyter-widgets/base",
            "_view_module_version": "1.2.0",
            "_view_name": "LayoutView",
            "align_content": null,
            "align_items": null,
            "align_self": null,
            "border": null,
            "bottom": null,
            "display": null,
            "flex": null,
            "flex_flow": null,
            "grid_area": null,
            "grid_auto_columns": null,
            "grid_auto_flow": null,
            "grid_auto_rows": null,
            "grid_column": null,
            "grid_gap": null,
            "grid_row": null,
            "grid_template_areas": null,
            "grid_template_columns": null,
            "grid_template_rows": null,
            "height": null,
            "justify_content": null,
            "justify_items": null,
            "left": null,
            "margin": null,
            "max_height": null,
            "max_width": null,
            "min_height": null,
            "min_width": null,
            "object_fit": null,
            "object_position": null,
            "order": null,
            "overflow": null,
            "overflow_x": null,
            "overflow_y": null,
            "padding": null,
            "right": null,
            "top": null,
            "visibility": null,
            "width": null
          }
        },
        "ad8e146ec2fb406c8d6e0e9f29b099a0": {
          "model_module": "@jupyter-widgets/controls",
          "model_name": "ProgressStyleModel",
          "model_module_version": "1.5.0",
          "state": {
            "_model_module": "@jupyter-widgets/controls",
            "_model_module_version": "1.5.0",
            "_model_name": "ProgressStyleModel",
            "_view_count": null,
            "_view_module": "@jupyter-widgets/base",
            "_view_module_version": "1.2.0",
            "_view_name": "StyleView",
            "bar_color": null,
            "description_width": ""
          }
        },
        "850f2efd4ff146d3a383e2fa0817052f": {
          "model_module": "@jupyter-widgets/base",
          "model_name": "LayoutModel",
          "model_module_version": "1.2.0",
          "state": {
            "_model_module": "@jupyter-widgets/base",
            "_model_module_version": "1.2.0",
            "_model_name": "LayoutModel",
            "_view_count": null,
            "_view_module": "@jupyter-widgets/base",
            "_view_module_version": "1.2.0",
            "_view_name": "LayoutView",
            "align_content": null,
            "align_items": null,
            "align_self": null,
            "border": null,
            "bottom": null,
            "display": null,
            "flex": null,
            "flex_flow": null,
            "grid_area": null,
            "grid_auto_columns": null,
            "grid_auto_flow": null,
            "grid_auto_rows": null,
            "grid_column": null,
            "grid_gap": null,
            "grid_row": null,
            "grid_template_areas": null,
            "grid_template_columns": null,
            "grid_template_rows": null,
            "height": null,
            "justify_content": null,
            "justify_items": null,
            "left": null,
            "margin": null,
            "max_height": null,
            "max_width": null,
            "min_height": null,
            "min_width": null,
            "object_fit": null,
            "object_position": null,
            "order": null,
            "overflow": null,
            "overflow_x": null,
            "overflow_y": null,
            "padding": null,
            "right": null,
            "top": null,
            "visibility": null,
            "width": null
          }
        },
        "3c52f672aef34e56844702e11cfbf909": {
          "model_module": "@jupyter-widgets/controls",
          "model_name": "DescriptionStyleModel",
          "model_module_version": "1.5.0",
          "state": {
            "_model_module": "@jupyter-widgets/controls",
            "_model_module_version": "1.5.0",
            "_model_name": "DescriptionStyleModel",
            "_view_count": null,
            "_view_module": "@jupyter-widgets/base",
            "_view_module_version": "1.2.0",
            "_view_name": "StyleView",
            "description_width": ""
          }
        },
        "c9aa997d006846d4a5c10fbb9da03936": {
          "model_module": "@jupyter-widgets/controls",
          "model_name": "HBoxModel",
          "model_module_version": "1.5.0",
          "state": {
            "_dom_classes": [],
            "_model_module": "@jupyter-widgets/controls",
            "_model_module_version": "1.5.0",
            "_model_name": "HBoxModel",
            "_view_count": null,
            "_view_module": "@jupyter-widgets/controls",
            "_view_module_version": "1.5.0",
            "_view_name": "HBoxView",
            "box_style": "",
            "children": [
              "IPY_MODEL_9d7954821a4b47e0ab6eab66aea557d5",
              "IPY_MODEL_b8e17fa1877d4b4caa20233e6aa51941",
              "IPY_MODEL_de871d8e98a941069ee78507a0b37477"
            ],
            "layout": "IPY_MODEL_65016f77e1e440b9ab9a730b7fe326fb"
          }
        },
        "9d7954821a4b47e0ab6eab66aea557d5": {
          "model_module": "@jupyter-widgets/controls",
          "model_name": "HTMLModel",
          "model_module_version": "1.5.0",
          "state": {
            "_dom_classes": [],
            "_model_module": "@jupyter-widgets/controls",
            "_model_module_version": "1.5.0",
            "_model_name": "HTMLModel",
            "_view_count": null,
            "_view_module": "@jupyter-widgets/controls",
            "_view_module_version": "1.5.0",
            "_view_name": "HTMLView",
            "description": "",
            "description_tooltip": null,
            "layout": "IPY_MODEL_618e5446a2634ec58bff5553fb2e1005",
            "placeholder": "​",
            "style": "IPY_MODEL_247e627c742f4479b131814cd64d3e37",
            "value": "tokenizer_config.json: 100%"
          }
        },
        "b8e17fa1877d4b4caa20233e6aa51941": {
          "model_module": "@jupyter-widgets/controls",
          "model_name": "FloatProgressModel",
          "model_module_version": "1.5.0",
          "state": {
            "_dom_classes": [],
            "_model_module": "@jupyter-widgets/controls",
            "_model_module_version": "1.5.0",
            "_model_name": "FloatProgressModel",
            "_view_count": null,
            "_view_module": "@jupyter-widgets/controls",
            "_view_module_version": "1.5.0",
            "_view_name": "ProgressView",
            "bar_style": "success",
            "description": "",
            "description_tooltip": null,
            "layout": "IPY_MODEL_83b7a1af75c34ffab7815eced7a45a57",
            "max": 60,
            "min": 0,
            "orientation": "horizontal",
            "style": "IPY_MODEL_d5e1a6f83a4c4e4d9ec3814140c5d9fc",
            "value": 60
          }
        },
        "de871d8e98a941069ee78507a0b37477": {
          "model_module": "@jupyter-widgets/controls",
          "model_name": "HTMLModel",
          "model_module_version": "1.5.0",
          "state": {
            "_dom_classes": [],
            "_model_module": "@jupyter-widgets/controls",
            "_model_module_version": "1.5.0",
            "_model_name": "HTMLModel",
            "_view_count": null,
            "_view_module": "@jupyter-widgets/controls",
            "_view_module_version": "1.5.0",
            "_view_name": "HTMLView",
            "description": "",
            "description_tooltip": null,
            "layout": "IPY_MODEL_9a8165c549534c2db4521b5c20e0a95a",
            "placeholder": "​",
            "style": "IPY_MODEL_b6c48cd71d5f46c2a46e178dff354217",
            "value": " 60.0/60.0 [00:00&lt;00:00, 1.80kB/s]"
          }
        },
        "65016f77e1e440b9ab9a730b7fe326fb": {
          "model_module": "@jupyter-widgets/base",
          "model_name": "LayoutModel",
          "model_module_version": "1.2.0",
          "state": {
            "_model_module": "@jupyter-widgets/base",
            "_model_module_version": "1.2.0",
            "_model_name": "LayoutModel",
            "_view_count": null,
            "_view_module": "@jupyter-widgets/base",
            "_view_module_version": "1.2.0",
            "_view_name": "LayoutView",
            "align_content": null,
            "align_items": null,
            "align_self": null,
            "border": null,
            "bottom": null,
            "display": null,
            "flex": null,
            "flex_flow": null,
            "grid_area": null,
            "grid_auto_columns": null,
            "grid_auto_flow": null,
            "grid_auto_rows": null,
            "grid_column": null,
            "grid_gap": null,
            "grid_row": null,
            "grid_template_areas": null,
            "grid_template_columns": null,
            "grid_template_rows": null,
            "height": null,
            "justify_content": null,
            "justify_items": null,
            "left": null,
            "margin": null,
            "max_height": null,
            "max_width": null,
            "min_height": null,
            "min_width": null,
            "object_fit": null,
            "object_position": null,
            "order": null,
            "overflow": null,
            "overflow_x": null,
            "overflow_y": null,
            "padding": null,
            "right": null,
            "top": null,
            "visibility": null,
            "width": null
          }
        },
        "618e5446a2634ec58bff5553fb2e1005": {
          "model_module": "@jupyter-widgets/base",
          "model_name": "LayoutModel",
          "model_module_version": "1.2.0",
          "state": {
            "_model_module": "@jupyter-widgets/base",
            "_model_module_version": "1.2.0",
            "_model_name": "LayoutModel",
            "_view_count": null,
            "_view_module": "@jupyter-widgets/base",
            "_view_module_version": "1.2.0",
            "_view_name": "LayoutView",
            "align_content": null,
            "align_items": null,
            "align_self": null,
            "border": null,
            "bottom": null,
            "display": null,
            "flex": null,
            "flex_flow": null,
            "grid_area": null,
            "grid_auto_columns": null,
            "grid_auto_flow": null,
            "grid_auto_rows": null,
            "grid_column": null,
            "grid_gap": null,
            "grid_row": null,
            "grid_template_areas": null,
            "grid_template_columns": null,
            "grid_template_rows": null,
            "height": null,
            "justify_content": null,
            "justify_items": null,
            "left": null,
            "margin": null,
            "max_height": null,
            "max_width": null,
            "min_height": null,
            "min_width": null,
            "object_fit": null,
            "object_position": null,
            "order": null,
            "overflow": null,
            "overflow_x": null,
            "overflow_y": null,
            "padding": null,
            "right": null,
            "top": null,
            "visibility": null,
            "width": null
          }
        },
        "247e627c742f4479b131814cd64d3e37": {
          "model_module": "@jupyter-widgets/controls",
          "model_name": "DescriptionStyleModel",
          "model_module_version": "1.5.0",
          "state": {
            "_model_module": "@jupyter-widgets/controls",
            "_model_module_version": "1.5.0",
            "_model_name": "DescriptionStyleModel",
            "_view_count": null,
            "_view_module": "@jupyter-widgets/base",
            "_view_module_version": "1.2.0",
            "_view_name": "StyleView",
            "description_width": ""
          }
        },
        "83b7a1af75c34ffab7815eced7a45a57": {
          "model_module": "@jupyter-widgets/base",
          "model_name": "LayoutModel",
          "model_module_version": "1.2.0",
          "state": {
            "_model_module": "@jupyter-widgets/base",
            "_model_module_version": "1.2.0",
            "_model_name": "LayoutModel",
            "_view_count": null,
            "_view_module": "@jupyter-widgets/base",
            "_view_module_version": "1.2.0",
            "_view_name": "LayoutView",
            "align_content": null,
            "align_items": null,
            "align_self": null,
            "border": null,
            "bottom": null,
            "display": null,
            "flex": null,
            "flex_flow": null,
            "grid_area": null,
            "grid_auto_columns": null,
            "grid_auto_flow": null,
            "grid_auto_rows": null,
            "grid_column": null,
            "grid_gap": null,
            "grid_row": null,
            "grid_template_areas": null,
            "grid_template_columns": null,
            "grid_template_rows": null,
            "height": null,
            "justify_content": null,
            "justify_items": null,
            "left": null,
            "margin": null,
            "max_height": null,
            "max_width": null,
            "min_height": null,
            "min_width": null,
            "object_fit": null,
            "object_position": null,
            "order": null,
            "overflow": null,
            "overflow_x": null,
            "overflow_y": null,
            "padding": null,
            "right": null,
            "top": null,
            "visibility": null,
            "width": null
          }
        },
        "d5e1a6f83a4c4e4d9ec3814140c5d9fc": {
          "model_module": "@jupyter-widgets/controls",
          "model_name": "ProgressStyleModel",
          "model_module_version": "1.5.0",
          "state": {
            "_model_module": "@jupyter-widgets/controls",
            "_model_module_version": "1.5.0",
            "_model_name": "ProgressStyleModel",
            "_view_count": null,
            "_view_module": "@jupyter-widgets/base",
            "_view_module_version": "1.2.0",
            "_view_name": "StyleView",
            "bar_color": null,
            "description_width": ""
          }
        },
        "9a8165c549534c2db4521b5c20e0a95a": {
          "model_module": "@jupyter-widgets/base",
          "model_name": "LayoutModel",
          "model_module_version": "1.2.0",
          "state": {
            "_model_module": "@jupyter-widgets/base",
            "_model_module_version": "1.2.0",
            "_model_name": "LayoutModel",
            "_view_count": null,
            "_view_module": "@jupyter-widgets/base",
            "_view_module_version": "1.2.0",
            "_view_name": "LayoutView",
            "align_content": null,
            "align_items": null,
            "align_self": null,
            "border": null,
            "bottom": null,
            "display": null,
            "flex": null,
            "flex_flow": null,
            "grid_area": null,
            "grid_auto_columns": null,
            "grid_auto_flow": null,
            "grid_auto_rows": null,
            "grid_column": null,
            "grid_gap": null,
            "grid_row": null,
            "grid_template_areas": null,
            "grid_template_columns": null,
            "grid_template_rows": null,
            "height": null,
            "justify_content": null,
            "justify_items": null,
            "left": null,
            "margin": null,
            "max_height": null,
            "max_width": null,
            "min_height": null,
            "min_width": null,
            "object_fit": null,
            "object_position": null,
            "order": null,
            "overflow": null,
            "overflow_x": null,
            "overflow_y": null,
            "padding": null,
            "right": null,
            "top": null,
            "visibility": null,
            "width": null
          }
        },
        "b6c48cd71d5f46c2a46e178dff354217": {
          "model_module": "@jupyter-widgets/controls",
          "model_name": "DescriptionStyleModel",
          "model_module_version": "1.5.0",
          "state": {
            "_model_module": "@jupyter-widgets/controls",
            "_model_module_version": "1.5.0",
            "_model_name": "DescriptionStyleModel",
            "_view_count": null,
            "_view_module": "@jupyter-widgets/base",
            "_view_module_version": "1.2.0",
            "_view_name": "StyleView",
            "description_width": ""
          }
        },
        "5a1c03089c144f7c89e1fb92f81b10b8": {
          "model_module": "@jupyter-widgets/controls",
          "model_name": "HBoxModel",
          "model_module_version": "1.5.0",
          "state": {
            "_dom_classes": [],
            "_model_module": "@jupyter-widgets/controls",
            "_model_module_version": "1.5.0",
            "_model_name": "HBoxModel",
            "_view_count": null,
            "_view_module": "@jupyter-widgets/controls",
            "_view_module_version": "1.5.0",
            "_view_name": "HBoxView",
            "box_style": "",
            "children": [
              "IPY_MODEL_123ea5d92fb34d1a861afc029cae6f25",
              "IPY_MODEL_91b9abea8ac7468b85b1f422fa95a667",
              "IPY_MODEL_9f49cc1a4b9e4fe58ae1d7d05d8a394e"
            ],
            "layout": "IPY_MODEL_c78addf525b64604a93df3586c1e9b9b"
          }
        },
        "123ea5d92fb34d1a861afc029cae6f25": {
          "model_module": "@jupyter-widgets/controls",
          "model_name": "HTMLModel",
          "model_module_version": "1.5.0",
          "state": {
            "_dom_classes": [],
            "_model_module": "@jupyter-widgets/controls",
            "_model_module_version": "1.5.0",
            "_model_name": "HTMLModel",
            "_view_count": null,
            "_view_module": "@jupyter-widgets/controls",
            "_view_module_version": "1.5.0",
            "_view_name": "HTMLView",
            "description": "",
            "description_tooltip": null,
            "layout": "IPY_MODEL_eb620c55e3e54ea0bc5d09efd9fa3fbd",
            "placeholder": "​",
            "style": "IPY_MODEL_d5083ad51b8c46e69dcdf6119c297134",
            "value": "vocab.txt: 100%"
          }
        },
        "91b9abea8ac7468b85b1f422fa95a667": {
          "model_module": "@jupyter-widgets/controls",
          "model_name": "FloatProgressModel",
          "model_module_version": "1.5.0",
          "state": {
            "_dom_classes": [],
            "_model_module": "@jupyter-widgets/controls",
            "_model_module_version": "1.5.0",
            "_model_name": "FloatProgressModel",
            "_view_count": null,
            "_view_module": "@jupyter-widgets/controls",
            "_view_module_version": "1.5.0",
            "_view_name": "ProgressView",
            "bar_style": "success",
            "description": "",
            "description_tooltip": null,
            "layout": "IPY_MODEL_5b37cca747b74a298a3c769e1fbeb76f",
            "max": 213450,
            "min": 0,
            "orientation": "horizontal",
            "style": "IPY_MODEL_ec3edc85300d49e48aa9a4a03cdc3ffb",
            "value": 213450
          }
        },
        "9f49cc1a4b9e4fe58ae1d7d05d8a394e": {
          "model_module": "@jupyter-widgets/controls",
          "model_name": "HTMLModel",
          "model_module_version": "1.5.0",
          "state": {
            "_dom_classes": [],
            "_model_module": "@jupyter-widgets/controls",
            "_model_module_version": "1.5.0",
            "_model_name": "HTMLModel",
            "_view_count": null,
            "_view_module": "@jupyter-widgets/controls",
            "_view_module_version": "1.5.0",
            "_view_name": "HTMLView",
            "description": "",
            "description_tooltip": null,
            "layout": "IPY_MODEL_a0544693db0a4b1fb2ecb864531f9001",
            "placeholder": "​",
            "style": "IPY_MODEL_2748a3b348444b7fb0b7f2d7e066bea6",
            "value": " 213k/213k [00:00&lt;00:00, 7.56MB/s]"
          }
        },
        "c78addf525b64604a93df3586c1e9b9b": {
          "model_module": "@jupyter-widgets/base",
          "model_name": "LayoutModel",
          "model_module_version": "1.2.0",
          "state": {
            "_model_module": "@jupyter-widgets/base",
            "_model_module_version": "1.2.0",
            "_model_name": "LayoutModel",
            "_view_count": null,
            "_view_module": "@jupyter-widgets/base",
            "_view_module_version": "1.2.0",
            "_view_name": "LayoutView",
            "align_content": null,
            "align_items": null,
            "align_self": null,
            "border": null,
            "bottom": null,
            "display": null,
            "flex": null,
            "flex_flow": null,
            "grid_area": null,
            "grid_auto_columns": null,
            "grid_auto_flow": null,
            "grid_auto_rows": null,
            "grid_column": null,
            "grid_gap": null,
            "grid_row": null,
            "grid_template_areas": null,
            "grid_template_columns": null,
            "grid_template_rows": null,
            "height": null,
            "justify_content": null,
            "justify_items": null,
            "left": null,
            "margin": null,
            "max_height": null,
            "max_width": null,
            "min_height": null,
            "min_width": null,
            "object_fit": null,
            "object_position": null,
            "order": null,
            "overflow": null,
            "overflow_x": null,
            "overflow_y": null,
            "padding": null,
            "right": null,
            "top": null,
            "visibility": null,
            "width": null
          }
        },
        "eb620c55e3e54ea0bc5d09efd9fa3fbd": {
          "model_module": "@jupyter-widgets/base",
          "model_name": "LayoutModel",
          "model_module_version": "1.2.0",
          "state": {
            "_model_module": "@jupyter-widgets/base",
            "_model_module_version": "1.2.0",
            "_model_name": "LayoutModel",
            "_view_count": null,
            "_view_module": "@jupyter-widgets/base",
            "_view_module_version": "1.2.0",
            "_view_name": "LayoutView",
            "align_content": null,
            "align_items": null,
            "align_self": null,
            "border": null,
            "bottom": null,
            "display": null,
            "flex": null,
            "flex_flow": null,
            "grid_area": null,
            "grid_auto_columns": null,
            "grid_auto_flow": null,
            "grid_auto_rows": null,
            "grid_column": null,
            "grid_gap": null,
            "grid_row": null,
            "grid_template_areas": null,
            "grid_template_columns": null,
            "grid_template_rows": null,
            "height": null,
            "justify_content": null,
            "justify_items": null,
            "left": null,
            "margin": null,
            "max_height": null,
            "max_width": null,
            "min_height": null,
            "min_width": null,
            "object_fit": null,
            "object_position": null,
            "order": null,
            "overflow": null,
            "overflow_x": null,
            "overflow_y": null,
            "padding": null,
            "right": null,
            "top": null,
            "visibility": null,
            "width": null
          }
        },
        "d5083ad51b8c46e69dcdf6119c297134": {
          "model_module": "@jupyter-widgets/controls",
          "model_name": "DescriptionStyleModel",
          "model_module_version": "1.5.0",
          "state": {
            "_model_module": "@jupyter-widgets/controls",
            "_model_module_version": "1.5.0",
            "_model_name": "DescriptionStyleModel",
            "_view_count": null,
            "_view_module": "@jupyter-widgets/base",
            "_view_module_version": "1.2.0",
            "_view_name": "StyleView",
            "description_width": ""
          }
        },
        "5b37cca747b74a298a3c769e1fbeb76f": {
          "model_module": "@jupyter-widgets/base",
          "model_name": "LayoutModel",
          "model_module_version": "1.2.0",
          "state": {
            "_model_module": "@jupyter-widgets/base",
            "_model_module_version": "1.2.0",
            "_model_name": "LayoutModel",
            "_view_count": null,
            "_view_module": "@jupyter-widgets/base",
            "_view_module_version": "1.2.0",
            "_view_name": "LayoutView",
            "align_content": null,
            "align_items": null,
            "align_self": null,
            "border": null,
            "bottom": null,
            "display": null,
            "flex": null,
            "flex_flow": null,
            "grid_area": null,
            "grid_auto_columns": null,
            "grid_auto_flow": null,
            "grid_auto_rows": null,
            "grid_column": null,
            "grid_gap": null,
            "grid_row": null,
            "grid_template_areas": null,
            "grid_template_columns": null,
            "grid_template_rows": null,
            "height": null,
            "justify_content": null,
            "justify_items": null,
            "left": null,
            "margin": null,
            "max_height": null,
            "max_width": null,
            "min_height": null,
            "min_width": null,
            "object_fit": null,
            "object_position": null,
            "order": null,
            "overflow": null,
            "overflow_x": null,
            "overflow_y": null,
            "padding": null,
            "right": null,
            "top": null,
            "visibility": null,
            "width": null
          }
        },
        "ec3edc85300d49e48aa9a4a03cdc3ffb": {
          "model_module": "@jupyter-widgets/controls",
          "model_name": "ProgressStyleModel",
          "model_module_version": "1.5.0",
          "state": {
            "_model_module": "@jupyter-widgets/controls",
            "_model_module_version": "1.5.0",
            "_model_name": "ProgressStyleModel",
            "_view_count": null,
            "_view_module": "@jupyter-widgets/base",
            "_view_module_version": "1.2.0",
            "_view_name": "StyleView",
            "bar_color": null,
            "description_width": ""
          }
        },
        "a0544693db0a4b1fb2ecb864531f9001": {
          "model_module": "@jupyter-widgets/base",
          "model_name": "LayoutModel",
          "model_module_version": "1.2.0",
          "state": {
            "_model_module": "@jupyter-widgets/base",
            "_model_module_version": "1.2.0",
            "_model_name": "LayoutModel",
            "_view_count": null,
            "_view_module": "@jupyter-widgets/base",
            "_view_module_version": "1.2.0",
            "_view_name": "LayoutView",
            "align_content": null,
            "align_items": null,
            "align_self": null,
            "border": null,
            "bottom": null,
            "display": null,
            "flex": null,
            "flex_flow": null,
            "grid_area": null,
            "grid_auto_columns": null,
            "grid_auto_flow": null,
            "grid_auto_rows": null,
            "grid_column": null,
            "grid_gap": null,
            "grid_row": null,
            "grid_template_areas": null,
            "grid_template_columns": null,
            "grid_template_rows": null,
            "height": null,
            "justify_content": null,
            "justify_items": null,
            "left": null,
            "margin": null,
            "max_height": null,
            "max_width": null,
            "min_height": null,
            "min_width": null,
            "object_fit": null,
            "object_position": null,
            "order": null,
            "overflow": null,
            "overflow_x": null,
            "overflow_y": null,
            "padding": null,
            "right": null,
            "top": null,
            "visibility": null,
            "width": null
          }
        },
        "2748a3b348444b7fb0b7f2d7e066bea6": {
          "model_module": "@jupyter-widgets/controls",
          "model_name": "DescriptionStyleModel",
          "model_module_version": "1.5.0",
          "state": {
            "_model_module": "@jupyter-widgets/controls",
            "_model_module_version": "1.5.0",
            "_model_name": "DescriptionStyleModel",
            "_view_count": null,
            "_view_module": "@jupyter-widgets/base",
            "_view_module_version": "1.2.0",
            "_view_name": "StyleView",
            "description_width": ""
          }
        }
      }
    }
  },
  "cells": [
    {
      "cell_type": "code",
      "execution_count": 1,
      "metadata": {
        "colab": {
          "base_uri": "https://localhost:8080/"
        },
        "id": "D7P-62DtJTdF",
        "outputId": "956d2099-371d-442b-c020-dd37588c4016"
      },
      "outputs": [
        {
          "output_type": "stream",
          "name": "stdout",
          "text": [
            "Collecting datasets\n",
            "  Downloading datasets-3.1.0-py3-none-any.whl.metadata (20 kB)\n",
            "Collecting evaluate\n",
            "  Downloading evaluate-0.4.3-py3-none-any.whl.metadata (9.2 kB)\n",
            "Requirement already satisfied: transformers[sentencepiece] in /usr/local/lib/python3.10/dist-packages (4.46.3)\n",
            "Requirement already satisfied: filelock in /usr/local/lib/python3.10/dist-packages (from datasets) (3.16.1)\n",
            "Requirement already satisfied: numpy>=1.17 in /usr/local/lib/python3.10/dist-packages (from datasets) (1.26.4)\n",
            "Requirement already satisfied: pyarrow>=15.0.0 in /usr/local/lib/python3.10/dist-packages (from datasets) (17.0.0)\n",
            "Collecting dill<0.3.9,>=0.3.0 (from datasets)\n",
            "  Downloading dill-0.3.8-py3-none-any.whl.metadata (10 kB)\n",
            "Requirement already satisfied: pandas in /usr/local/lib/python3.10/dist-packages (from datasets) (2.2.2)\n",
            "Requirement already satisfied: requests>=2.32.2 in /usr/local/lib/python3.10/dist-packages (from datasets) (2.32.3)\n",
            "Requirement already satisfied: tqdm>=4.66.3 in /usr/local/lib/python3.10/dist-packages (from datasets) (4.66.6)\n",
            "Collecting xxhash (from datasets)\n",
            "  Downloading xxhash-3.5.0-cp310-cp310-manylinux_2_17_x86_64.manylinux2014_x86_64.whl.metadata (12 kB)\n",
            "Collecting multiprocess<0.70.17 (from datasets)\n",
            "  Downloading multiprocess-0.70.16-py310-none-any.whl.metadata (7.2 kB)\n",
            "Collecting fsspec<=2024.9.0,>=2023.1.0 (from fsspec[http]<=2024.9.0,>=2023.1.0->datasets)\n",
            "  Downloading fsspec-2024.9.0-py3-none-any.whl.metadata (11 kB)\n",
            "Requirement already satisfied: aiohttp in /usr/local/lib/python3.10/dist-packages (from datasets) (3.11.9)\n",
            "Requirement already satisfied: huggingface-hub>=0.23.0 in /usr/local/lib/python3.10/dist-packages (from datasets) (0.26.3)\n",
            "Requirement already satisfied: packaging in /usr/local/lib/python3.10/dist-packages (from datasets) (24.2)\n",
            "Requirement already satisfied: pyyaml>=5.1 in /usr/local/lib/python3.10/dist-packages (from datasets) (6.0.2)\n",
            "Requirement already satisfied: regex!=2019.12.17 in /usr/local/lib/python3.10/dist-packages (from transformers[sentencepiece]) (2024.9.11)\n",
            "Requirement already satisfied: tokenizers<0.21,>=0.20 in /usr/local/lib/python3.10/dist-packages (from transformers[sentencepiece]) (0.20.3)\n",
            "Requirement already satisfied: safetensors>=0.4.1 in /usr/local/lib/python3.10/dist-packages (from transformers[sentencepiece]) (0.4.5)\n",
            "Requirement already satisfied: sentencepiece!=0.1.92,>=0.1.91 in /usr/local/lib/python3.10/dist-packages (from transformers[sentencepiece]) (0.2.0)\n",
            "Requirement already satisfied: protobuf in /usr/local/lib/python3.10/dist-packages (from transformers[sentencepiece]) (4.25.5)\n",
            "Requirement already satisfied: aiohappyeyeballs>=2.3.0 in /usr/local/lib/python3.10/dist-packages (from aiohttp->datasets) (2.4.4)\n",
            "Requirement already satisfied: aiosignal>=1.1.2 in /usr/local/lib/python3.10/dist-packages (from aiohttp->datasets) (1.3.1)\n",
            "Requirement already satisfied: async-timeout<6.0,>=4.0 in /usr/local/lib/python3.10/dist-packages (from aiohttp->datasets) (4.0.3)\n",
            "Requirement already satisfied: attrs>=17.3.0 in /usr/local/lib/python3.10/dist-packages (from aiohttp->datasets) (24.2.0)\n",
            "Requirement already satisfied: frozenlist>=1.1.1 in /usr/local/lib/python3.10/dist-packages (from aiohttp->datasets) (1.5.0)\n",
            "Requirement already satisfied: multidict<7.0,>=4.5 in /usr/local/lib/python3.10/dist-packages (from aiohttp->datasets) (6.1.0)\n",
            "Requirement already satisfied: propcache>=0.2.0 in /usr/local/lib/python3.10/dist-packages (from aiohttp->datasets) (0.2.1)\n",
            "Requirement already satisfied: yarl<2.0,>=1.17.0 in /usr/local/lib/python3.10/dist-packages (from aiohttp->datasets) (1.18.3)\n",
            "Requirement already satisfied: typing-extensions>=3.7.4.3 in /usr/local/lib/python3.10/dist-packages (from huggingface-hub>=0.23.0->datasets) (4.12.2)\n",
            "Requirement already satisfied: charset-normalizer<4,>=2 in /usr/local/lib/python3.10/dist-packages (from requests>=2.32.2->datasets) (3.4.0)\n",
            "Requirement already satisfied: idna<4,>=2.5 in /usr/local/lib/python3.10/dist-packages (from requests>=2.32.2->datasets) (3.10)\n",
            "Requirement already satisfied: urllib3<3,>=1.21.1 in /usr/local/lib/python3.10/dist-packages (from requests>=2.32.2->datasets) (2.2.3)\n",
            "Requirement already satisfied: certifi>=2017.4.17 in /usr/local/lib/python3.10/dist-packages (from requests>=2.32.2->datasets) (2024.8.30)\n",
            "Requirement already satisfied: python-dateutil>=2.8.2 in /usr/local/lib/python3.10/dist-packages (from pandas->datasets) (2.8.2)\n",
            "Requirement already satisfied: pytz>=2020.1 in /usr/local/lib/python3.10/dist-packages (from pandas->datasets) (2024.2)\n",
            "Requirement already satisfied: tzdata>=2022.7 in /usr/local/lib/python3.10/dist-packages (from pandas->datasets) (2024.2)\n",
            "Requirement already satisfied: six>=1.5 in /usr/local/lib/python3.10/dist-packages (from python-dateutil>=2.8.2->pandas->datasets) (1.16.0)\n",
            "Downloading datasets-3.1.0-py3-none-any.whl (480 kB)\n",
            "\u001b[2K   \u001b[90m━━━━━━━━━━━━━━━━━━━━━━━━━━━━━━━━━━━━━━━━\u001b[0m \u001b[32m480.6/480.6 kB\u001b[0m \u001b[31m16.5 MB/s\u001b[0m eta \u001b[36m0:00:00\u001b[0m\n",
            "\u001b[?25hDownloading evaluate-0.4.3-py3-none-any.whl (84 kB)\n",
            "\u001b[2K   \u001b[90m━━━━━━━━━━━━━━━━━━━━━━━━━━━━━━━━━━━━━━━━\u001b[0m \u001b[32m84.0/84.0 kB\u001b[0m \u001b[31m3.2 MB/s\u001b[0m eta \u001b[36m0:00:00\u001b[0m\n",
            "\u001b[?25hDownloading dill-0.3.8-py3-none-any.whl (116 kB)\n",
            "\u001b[2K   \u001b[90m━━━━━━━━━━━━━━━━━━━━━━━━━━━━━━━━━━━━━━━━\u001b[0m \u001b[32m116.3/116.3 kB\u001b[0m \u001b[31m6.4 MB/s\u001b[0m eta \u001b[36m0:00:00\u001b[0m\n",
            "\u001b[?25hDownloading fsspec-2024.9.0-py3-none-any.whl (179 kB)\n",
            "\u001b[2K   \u001b[90m━━━━━━━━━━━━━━━━━━━━━━━━━━━━━━━━━━━━━━━━\u001b[0m \u001b[32m179.3/179.3 kB\u001b[0m \u001b[31m13.1 MB/s\u001b[0m eta \u001b[36m0:00:00\u001b[0m\n",
            "\u001b[?25hDownloading multiprocess-0.70.16-py310-none-any.whl (134 kB)\n",
            "\u001b[2K   \u001b[90m━━━━━━━━━━━━━━━━━━━━━━━━━━━━━━━━━━━━━━━━\u001b[0m \u001b[32m134.8/134.8 kB\u001b[0m \u001b[31m8.1 MB/s\u001b[0m eta \u001b[36m0:00:00\u001b[0m\n",
            "\u001b[?25hDownloading xxhash-3.5.0-cp310-cp310-manylinux_2_17_x86_64.manylinux2014_x86_64.whl (194 kB)\n",
            "\u001b[2K   \u001b[90m━━━━━━━━━━━━━━━━━━━━━━━━━━━━━━━━━━━━━━━━\u001b[0m \u001b[32m194.1/194.1 kB\u001b[0m \u001b[31m13.2 MB/s\u001b[0m eta \u001b[36m0:00:00\u001b[0m\n",
            "\u001b[?25hInstalling collected packages: xxhash, fsspec, dill, multiprocess, datasets, evaluate\n",
            "  Attempting uninstall: fsspec\n",
            "    Found existing installation: fsspec 2024.10.0\n",
            "    Uninstalling fsspec-2024.10.0:\n",
            "      Successfully uninstalled fsspec-2024.10.0\n",
            "\u001b[31mERROR: pip's dependency resolver does not currently take into account all the packages that are installed. This behaviour is the source of the following dependency conflicts.\n",
            "gcsfs 2024.10.0 requires fsspec==2024.10.0, but you have fsspec 2024.9.0 which is incompatible.\u001b[0m\u001b[31m\n",
            "\u001b[0mSuccessfully installed datasets-3.1.0 dill-0.3.8 evaluate-0.4.3 fsspec-2024.9.0 multiprocess-0.70.16 xxhash-3.5.0\n"
          ]
        }
      ],
      "source": [
        "!pip install datasets evaluate transformers[sentencepiece]"
      ]
    },
    {
      "cell_type": "markdown",
      "source": [
        "fast tokenizer使用RUST语言编写的；slow tokenizer是用python语言编写的。\n",
        "\n",
        "当你对单个句子分词的时候，你看不出什么明显区别，甚至fast tokenizer可能会更慢。只有当同时**并行**对大量本文进行分词时，你可以看出明显的区别。"
      ],
      "metadata": {
        "id": "_SsfZ4wNJ1Is"
      }
    },
    {
      "cell_type": "code",
      "source": [
        "from transformers import AutoTokenizer\n",
        "\n",
        "tokenizer = AutoTokenizer.from_pretrained(\"bert-base-cased\")\n",
        "example = \"My name is Sylvain and I work at Hugging Face in Brooklyn.\"\n",
        "encoding = tokenizer(example)\n",
        "print(type(encoding))"
      ],
      "metadata": {
        "colab": {
          "base_uri": "https://localhost:8080/",
          "height": 286,
          "referenced_widgets": [
            "e8fd76bf646a437386647492202d63b3",
            "800c7fcc46bc483bab95f736a208c18b",
            "34262d779f3d4d7ba9b58840d6d6042d",
            "4c4a50ff3f95410a967665479a7d5b5c",
            "df4a810ffe724841884ede32323a4648",
            "cf2a6c9d14e844279750855c1bb295ea",
            "cf0f11c902ed4f39be93847990aca024",
            "6c8410d9452d471b80ecb7242c021afc",
            "ea29dc10b4924ed09ca6e42a3f5b35f8",
            "3dd638dbee844b0babb92d5611e91c71",
            "598603868fc8403aa301d61fac246b59",
            "e4e66ff0b0b2451c8bb26259d3ff2e80",
            "60018169c9a247cd98c3c48555943186",
            "9ff26b13943e4dc19494692a85d28e07",
            "3b0bd651f54a447c9cca2b7fa046c77e",
            "c47fb1bbe9ed4bd5841880f1989d4ea5",
            "dd347ba353824b37adc7650d5424847c",
            "88560dbf1f114353b63a1bb8fa8add5b",
            "7eaccaa501cb4f598bfe810b60376be8",
            "6e7d7658831147acbf69063ec509bde2",
            "444a4779292e41fd9c0c144801cbe64e",
            "6cc897bf079244609c3e8aee1c30d27e",
            "d5c9527ba8ad4d78b81aa1de8af1fc17",
            "5f6a31d2be324d93b35c0c0d33bc54db",
            "f2e7c9cc85d34acf9b3f7b71cef81197",
            "907e26f3a83345bc94abf9c4d0689d4c",
            "bae5ea9ff18942049252429d44f83a46",
            "89b1f3c89c1d4785bf9a1e0f7ba9a1ae",
            "388dc4602eb443ffac62c78cfbdb276c",
            "c2dcbfc40f0347f7a935e1e75cabc80d",
            "1a7ae7ff630643e897aab90ef9515678",
            "2c75bbd7dce34588b19b409aafe28baa",
            "d9a988b4b96a494ca579312ae0250f71",
            "86c7aed796e244c4b5571869e1b0d629",
            "90a1934fadd240e3845500ee1c663bc3",
            "23c2cab54fc94dddb3e21b678fbb5dac",
            "14ef5862cddc42b1a6984fb3ae6d3faa",
            "6c476c20ae024b149291f33dcaea1ed3",
            "8f377a6ee4024312b32207a599b2e690",
            "26097def0dc94e6fa30e10993bfd5ae4",
            "3d2ee48e9ec542108aaefe003f9e63d9",
            "3922c2afbc494ba0b998028bbf7b1852",
            "c500792a6b62445f8a861af4726cc301",
            "7435d68af86d46eea0dc9a3b77d7007c"
          ]
        },
        "id": "qcyk0OiTJdgZ",
        "outputId": "f9cc13b7-86d7-4d34-8b6f-6613bde30c67"
      },
      "execution_count": 2,
      "outputs": [
        {
          "output_type": "stream",
          "name": "stderr",
          "text": [
            "/usr/local/lib/python3.10/dist-packages/huggingface_hub/utils/_auth.py:94: UserWarning: \n",
            "The secret `HF_TOKEN` does not exist in your Colab secrets.\n",
            "To authenticate with the Hugging Face Hub, create a token in your settings tab (https://huggingface.co/settings/tokens), set it as secret in your Google Colab and restart your session.\n",
            "You will be able to reuse this secret in all of your notebooks.\n",
            "Please note that authentication is recommended but still optional to access public models or datasets.\n",
            "  warnings.warn(\n"
          ]
        },
        {
          "output_type": "display_data",
          "data": {
            "text/plain": [
              "tokenizer_config.json:   0%|          | 0.00/49.0 [00:00<?, ?B/s]"
            ],
            "application/vnd.jupyter.widget-view+json": {
              "version_major": 2,
              "version_minor": 0,
              "model_id": "e8fd76bf646a437386647492202d63b3"
            }
          },
          "metadata": {}
        },
        {
          "output_type": "display_data",
          "data": {
            "text/plain": [
              "config.json:   0%|          | 0.00/570 [00:00<?, ?B/s]"
            ],
            "application/vnd.jupyter.widget-view+json": {
              "version_major": 2,
              "version_minor": 0,
              "model_id": "e4e66ff0b0b2451c8bb26259d3ff2e80"
            }
          },
          "metadata": {}
        },
        {
          "output_type": "display_data",
          "data": {
            "text/plain": [
              "vocab.txt:   0%|          | 0.00/213k [00:00<?, ?B/s]"
            ],
            "application/vnd.jupyter.widget-view+json": {
              "version_major": 2,
              "version_minor": 0,
              "model_id": "d5c9527ba8ad4d78b81aa1de8af1fc17"
            }
          },
          "metadata": {}
        },
        {
          "output_type": "display_data",
          "data": {
            "text/plain": [
              "tokenizer.json:   0%|          | 0.00/436k [00:00<?, ?B/s]"
            ],
            "application/vnd.jupyter.widget-view+json": {
              "version_major": 2,
              "version_minor": 0,
              "model_id": "86c7aed796e244c4b5571869e1b0d629"
            }
          },
          "metadata": {}
        },
        {
          "output_type": "stream",
          "name": "stdout",
          "text": [
            "<class 'transformers.tokenization_utils_base.BatchEncoding'>\n"
          ]
        }
      ]
    },
    {
      "cell_type": "code",
      "source": [
        "tokenizer.is_fast"
      ],
      "metadata": {
        "colab": {
          "base_uri": "https://localhost:8080/"
        },
        "id": "oUuPI4KlLMP3",
        "outputId": "ad7dae76-262f-4b76-c3c0-66ec66c02f5e"
      },
      "execution_count": null,
      "outputs": [
        {
          "output_type": "execute_result",
          "data": {
            "text/plain": [
              "True"
            ]
          },
          "metadata": {},
          "execution_count": 3
        }
      ]
    },
    {
      "cell_type": "code",
      "source": [
        "encoding.is_fast"
      ],
      "metadata": {
        "colab": {
          "base_uri": "https://localhost:8080/"
        },
        "id": "Jl-67jFJLQWR",
        "outputId": "06ec46bd-9f81-427f-d583-cd31d8da01df"
      },
      "execution_count": null,
      "outputs": [
        {
          "output_type": "execute_result",
          "data": {
            "text/plain": [
              "True"
            ]
          },
          "metadata": {},
          "execution_count": 4
        }
      ]
    },
    {
      "cell_type": "code",
      "source": [
        "encoding.tokens()"
      ],
      "metadata": {
        "colab": {
          "base_uri": "https://localhost:8080/"
        },
        "id": "y6S7K7tYLSrF",
        "outputId": "56ebe1f4-926c-4f0f-877d-1251728deab4"
      },
      "execution_count": null,
      "outputs": [
        {
          "output_type": "execute_result",
          "data": {
            "text/plain": [
              "['[CLS]',\n",
              " 'My',\n",
              " 'name',\n",
              " 'is',\n",
              " 'S',\n",
              " '##yl',\n",
              " '##va',\n",
              " '##in',\n",
              " 'and',\n",
              " 'I',\n",
              " 'work',\n",
              " 'at',\n",
              " 'Hu',\n",
              " '##gging',\n",
              " 'Face',\n",
              " 'in',\n",
              " 'Brooklyn',\n",
              " '.',\n",
              " '[SEP]']"
            ]
          },
          "metadata": {},
          "execution_count": 5
        }
      ]
    },
    {
      "cell_type": "code",
      "source": [
        "encoding.word_ids()"
      ],
      "metadata": {
        "colab": {
          "base_uri": "https://localhost:8080/"
        },
        "id": "GsAiX_j8LWtd",
        "outputId": "518a75f9-922a-4bf0-aaab-7fdb6dc27c72"
      },
      "execution_count": null,
      "outputs": [
        {
          "output_type": "execute_result",
          "data": {
            "text/plain": [
              "[None, 0, 1, 2, 3, 3, 3, 3, 4, 5, 6, 7, 8, 8, 9, 10, 11, 12, None]"
            ]
          },
          "metadata": {},
          "execution_count": 6
        }
      ]
    },
    {
      "cell_type": "code",
      "source": [
        "#encoding方法将一个词的索引（这里是3）映射到该词在文本中的字符范围\n",
        "#word_to_chars返回单词在文本中的起始和结束位置\n",
        "start, end = encoding.word_to_chars(3)\n",
        "example[start:end] #提取从start到end之间的子字符串"
      ],
      "metadata": {
        "colab": {
          "base_uri": "https://localhost:8080/",
          "height": 35
        },
        "id": "HU07vn_1LaR9",
        "outputId": "b46a8e34-88ad-4369-a8ad-81f6f7de16de"
      },
      "execution_count": null,
      "outputs": [
        {
          "output_type": "execute_result",
          "data": {
            "text/plain": [
              "'Sylvain'"
            ],
            "application/vnd.google.colaboratory.intrinsic+json": {
              "type": "string"
            }
          },
          "metadata": {},
          "execution_count": 7
        }
      ]
    },
    {
      "cell_type": "code",
      "source": [
        "from transformers import pipeline\n",
        "\n",
        "token_classifier = pipeline(\"token-classification\")\n",
        "token_classifier(\"My name is Sylvain and I work at Hugging Face in Brooklyn.\")"
      ],
      "metadata": {
        "colab": {
          "base_uri": "https://localhost:8080/",
          "height": 1000,
          "referenced_widgets": [
            "9b2a5da8ef6b48c3a9675deee8e142d3",
            "a1daa9b78356466e9e70d086da468e2b",
            "c802710353804cd3a187fdc112f1139f",
            "ef4fe04ca3c94dfaada6dfbdde2bce43",
            "1a82ffc68faa47febc4e1cf95086b20e",
            "244501db1f7947f2a3df6b176c337798",
            "8c218ffa68ff4f4191632dfec7a558ad",
            "7dd43423a8fd45ec94086e6d777f627a",
            "cf05c629e8684659942f66a39c96f274",
            "0905609c71f14302bd8ddc57f601ff33",
            "bfa2a338e46f42998c54fcf0572abbde",
            "699d761a2419464995976ddaf53a2f03",
            "b6b5ec148c994b598c9bf71d01d04643",
            "5228dd12d9c44585947daf795027dced",
            "4148a57d2e144b6097c9ef3597e82e58",
            "49038a25cc2042ca9224378811595720",
            "268db9e6c0934835b1008bf0ea7746d8",
            "c788437e0ff94dc2a31dd0a3a98f197c",
            "0d3c9f963f5e4fd68e61939dfd49c09d",
            "ad8e146ec2fb406c8d6e0e9f29b099a0",
            "850f2efd4ff146d3a383e2fa0817052f",
            "3c52f672aef34e56844702e11cfbf909",
            "c9aa997d006846d4a5c10fbb9da03936",
            "9d7954821a4b47e0ab6eab66aea557d5",
            "b8e17fa1877d4b4caa20233e6aa51941",
            "de871d8e98a941069ee78507a0b37477",
            "65016f77e1e440b9ab9a730b7fe326fb",
            "618e5446a2634ec58bff5553fb2e1005",
            "247e627c742f4479b131814cd64d3e37",
            "83b7a1af75c34ffab7815eced7a45a57",
            "d5e1a6f83a4c4e4d9ec3814140c5d9fc",
            "9a8165c549534c2db4521b5c20e0a95a",
            "b6c48cd71d5f46c2a46e178dff354217",
            "5a1c03089c144f7c89e1fb92f81b10b8",
            "123ea5d92fb34d1a861afc029cae6f25",
            "91b9abea8ac7468b85b1f422fa95a667",
            "9f49cc1a4b9e4fe58ae1d7d05d8a394e",
            "c78addf525b64604a93df3586c1e9b9b",
            "eb620c55e3e54ea0bc5d09efd9fa3fbd",
            "d5083ad51b8c46e69dcdf6119c297134",
            "5b37cca747b74a298a3c769e1fbeb76f",
            "ec3edc85300d49e48aa9a4a03cdc3ffb",
            "a0544693db0a4b1fb2ecb864531f9001",
            "2748a3b348444b7fb0b7f2d7e066bea6"
          ]
        },
        "id": "_TbewzxGLp4h",
        "outputId": "5825aeaa-b0dd-4465-ad79-b071acd5cda7"
      },
      "execution_count": 3,
      "outputs": [
        {
          "output_type": "stream",
          "name": "stderr",
          "text": [
            "No model was supplied, defaulted to dbmdz/bert-large-cased-finetuned-conll03-english and revision 4c53496 (https://huggingface.co/dbmdz/bert-large-cased-finetuned-conll03-english).\n",
            "Using a pipeline without specifying a model name and revision in production is not recommended.\n"
          ]
        },
        {
          "output_type": "display_data",
          "data": {
            "text/plain": [
              "config.json:   0%|          | 0.00/998 [00:00<?, ?B/s]"
            ],
            "application/vnd.jupyter.widget-view+json": {
              "version_major": 2,
              "version_minor": 0,
              "model_id": "9b2a5da8ef6b48c3a9675deee8e142d3"
            }
          },
          "metadata": {}
        },
        {
          "output_type": "display_data",
          "data": {
            "text/plain": [
              "model.safetensors:   0%|          | 0.00/1.33G [00:00<?, ?B/s]"
            ],
            "application/vnd.jupyter.widget-view+json": {
              "version_major": 2,
              "version_minor": 0,
              "model_id": "699d761a2419464995976ddaf53a2f03"
            }
          },
          "metadata": {}
        },
        {
          "output_type": "stream",
          "name": "stderr",
          "text": [
            "Some weights of the model checkpoint at dbmdz/bert-large-cased-finetuned-conll03-english were not used when initializing BertForTokenClassification: ['bert.pooler.dense.bias', 'bert.pooler.dense.weight']\n",
            "- This IS expected if you are initializing BertForTokenClassification from the checkpoint of a model trained on another task or with another architecture (e.g. initializing a BertForSequenceClassification model from a BertForPreTraining model).\n",
            "- This IS NOT expected if you are initializing BertForTokenClassification from the checkpoint of a model that you expect to be exactly identical (initializing a BertForSequenceClassification model from a BertForSequenceClassification model).\n"
          ]
        },
        {
          "output_type": "display_data",
          "data": {
            "text/plain": [
              "tokenizer_config.json:   0%|          | 0.00/60.0 [00:00<?, ?B/s]"
            ],
            "application/vnd.jupyter.widget-view+json": {
              "version_major": 2,
              "version_minor": 0,
              "model_id": "c9aa997d006846d4a5c10fbb9da03936"
            }
          },
          "metadata": {}
        },
        {
          "output_type": "display_data",
          "data": {
            "text/plain": [
              "vocab.txt:   0%|          | 0.00/213k [00:00<?, ?B/s]"
            ],
            "application/vnd.jupyter.widget-view+json": {
              "version_major": 2,
              "version_minor": 0,
              "model_id": "5a1c03089c144f7c89e1fb92f81b10b8"
            }
          },
          "metadata": {}
        },
        {
          "output_type": "execute_result",
          "data": {
            "text/plain": [
              "[{'entity': 'I-PER',\n",
              "  'score': 0.99938285,\n",
              "  'index': 4,\n",
              "  'word': 'S',\n",
              "  'start': 11,\n",
              "  'end': 12},\n",
              " {'entity': 'I-PER',\n",
              "  'score': 0.99815494,\n",
              "  'index': 5,\n",
              "  'word': '##yl',\n",
              "  'start': 12,\n",
              "  'end': 14},\n",
              " {'entity': 'I-PER',\n",
              "  'score': 0.99590707,\n",
              "  'index': 6,\n",
              "  'word': '##va',\n",
              "  'start': 14,\n",
              "  'end': 16},\n",
              " {'entity': 'I-PER',\n",
              "  'score': 0.99923277,\n",
              "  'index': 7,\n",
              "  'word': '##in',\n",
              "  'start': 16,\n",
              "  'end': 18},\n",
              " {'entity': 'I-ORG',\n",
              "  'score': 0.9738931,\n",
              "  'index': 12,\n",
              "  'word': 'Hu',\n",
              "  'start': 33,\n",
              "  'end': 35},\n",
              " {'entity': 'I-ORG',\n",
              "  'score': 0.976115,\n",
              "  'index': 13,\n",
              "  'word': '##gging',\n",
              "  'start': 35,\n",
              "  'end': 40},\n",
              " {'entity': 'I-ORG',\n",
              "  'score': 0.9887976,\n",
              "  'index': 14,\n",
              "  'word': 'Face',\n",
              "  'start': 41,\n",
              "  'end': 45},\n",
              " {'entity': 'I-LOC',\n",
              "  'score': 0.9932106,\n",
              "  'index': 16,\n",
              "  'word': 'Brooklyn',\n",
              "  'start': 49,\n",
              "  'end': 57}]"
            ]
          },
          "metadata": {},
          "execution_count": 3
        }
      ]
    },
    {
      "cell_type": "markdown",
      "source": [
        "token-classification用于对文本中的每个token进行分类\n",
        "\n",
        "token-classification通常用于命名实体识别(NER),它会标注文中的每个单词或子词为特定的类别（如：人名、地点名、组织名等）\n",
        "\n",
        "下面这段代码唯一的不同就是加了aggregation_strategy=\"simple\"这个参数。这个参数指定如何处理子词（subword）token。在文本处理中，某些词可能会被分成多个子词，该参数用来指定如何合并这些子词的分类结果。\n",
        "\n",
        "“simple”聚合策略表示直接将所有子词的分类标签合并为一个标签，通常是将子词的标签通过简单规则合并成一个完整的标签。"
      ],
      "metadata": {
        "id": "BaKdRyiON5rb"
      }
    },
    {
      "cell_type": "code",
      "source": [
        "from transformers import pipeline\n",
        "\n",
        "token_classifier = pipeline(\"token-classification\", aggregation_strategy=\"simple\")\n",
        "token_classifier(\"My name is Sylvain and I work at Hugging Face in Brooklyn.\")"
      ],
      "metadata": {
        "colab": {
          "base_uri": "https://localhost:8080/"
        },
        "id": "jIpxPE8iN8U0",
        "outputId": "fa8c143e-6a70-41f3-83e5-bb6024d729f0"
      },
      "execution_count": null,
      "outputs": [
        {
          "output_type": "stream",
          "name": "stderr",
          "text": [
            "No model was supplied, defaulted to dbmdz/bert-large-cased-finetuned-conll03-english and revision 4c53496 (https://huggingface.co/dbmdz/bert-large-cased-finetuned-conll03-english).\n",
            "Using a pipeline without specifying a model name and revision in production is not recommended.\n",
            "Some weights of the model checkpoint at dbmdz/bert-large-cased-finetuned-conll03-english were not used when initializing BertForTokenClassification: ['bert.pooler.dense.bias', 'bert.pooler.dense.weight']\n",
            "- This IS expected if you are initializing BertForTokenClassification from the checkpoint of a model trained on another task or with another architecture (e.g. initializing a BertForSequenceClassification model from a BertForPreTraining model).\n",
            "- This IS NOT expected if you are initializing BertForTokenClassification from the checkpoint of a model that you expect to be exactly identical (initializing a BertForSequenceClassification model from a BertForSequenceClassification model).\n"
          ]
        },
        {
          "output_type": "execute_result",
          "data": {
            "text/plain": [
              "[{'entity_group': 'PER',\n",
              "  'score': 0.9981694,\n",
              "  'word': 'Sylvain',\n",
              "  'start': 11,\n",
              "  'end': 18},\n",
              " {'entity_group': 'ORG',\n",
              "  'score': 0.9796019,\n",
              "  'word': 'Hugging Face',\n",
              "  'start': 33,\n",
              "  'end': 45},\n",
              " {'entity_group': 'LOC',\n",
              "  'score': 0.9932106,\n",
              "  'word': 'Brooklyn',\n",
              "  'start': 49,\n",
              "  'end': 57}]"
            ]
          },
          "metadata": {},
          "execution_count": 9
        }
      ]
    },
    {
      "cell_type": "markdown",
      "source": [
        "所选的 aggregation_strategy 会改变为每个分组实体计算的分数。使用 \"simple\" 时，分数就是给定实体中每个标记的分数的平均值：例如，“Sylvain”的分数是前面示例中标记 S、##yl、##va 和 ##in 的分数的平均值。其他可用策略有：\n",
        "\n",
        "\"first\"：每个实体的分数是该实体第一个标记的分数（所以对于“Sylvain”来说，它的分数是0.993828，即标记S的分数）。\n",
        "\n",
        "\"max\"：每个实体的分数是该实体中所有标记的最大分数（所以对于“Hugging Face”来说，它的分数是0.98879766，即“Face”标记的分数）。\n",
        "\n",
        "\"average\"：每个实体的分数是组成该实体的单词分数的平均值（所以对于“Sylvain”来说，这与\"simple\"策略没有区别，但对于“Hugging Face”，分数为0.9819，是“Hugging”的分数0.975和“Face”的分数0.98879的平均值）。\n",
        "\n",
        "现在，让我们看看如何在不使用 pipeline() 函数的情况下获得这些结果！"
      ],
      "metadata": {
        "id": "_cOqdbLqTDxC"
      }
    },
    {
      "cell_type": "code",
      "source": [
        "from transformers import AutoTokenizer, AutoModelForTokenClassification\n",
        "\n",
        "model_checkpoint = \"dbmdz/bert-large-cased-finetuned-conll03-english\"\n",
        "tokenizer = AutoTokenizer.from_pretrained(model_checkpoint)\n",
        "model = AutoModelForTokenClassification.from_pretrained(model_checkpoint)\n",
        "\n",
        "example = \"My name is Sylvain and I work at Hugging Face in Brooklyn.\"\n",
        "inputs = tokenizer(example, return_tensors=\"pt\")\n",
        "outputs = model(**inputs)"
      ],
      "metadata": {
        "colab": {
          "base_uri": "https://localhost:8080/"
        },
        "id": "99NNAsaiPxGs",
        "outputId": "9b4a9ad2-ff57-4a3b-e212-6c31fe01b8cd"
      },
      "execution_count": 4,
      "outputs": [
        {
          "output_type": "stream",
          "name": "stderr",
          "text": [
            "Some weights of the model checkpoint at dbmdz/bert-large-cased-finetuned-conll03-english were not used when initializing BertForTokenClassification: ['bert.pooler.dense.bias', 'bert.pooler.dense.weight']\n",
            "- This IS expected if you are initializing BertForTokenClassification from the checkpoint of a model trained on another task or with another architecture (e.g. initializing a BertForSequenceClassification model from a BertForPreTraining model).\n",
            "- This IS NOT expected if you are initializing BertForTokenClassification from the checkpoint of a model that you expect to be exactly identical (initializing a BertForSequenceClassification model from a BertForSequenceClassification model).\n"
          ]
        }
      ]
    },
    {
      "cell_type": "code",
      "source": [
        "print(inputs[\"input_ids\"].shape)\n",
        "print(outputs.logits.shape)"
      ],
      "metadata": {
        "colab": {
          "base_uri": "https://localhost:8080/"
        },
        "id": "I8IZHI-YTsKK",
        "outputId": "b56ccafc-1dd9-498b-e8dc-c3bfaaacd715"
      },
      "execution_count": 5,
      "outputs": [
        {
          "output_type": "stream",
          "name": "stdout",
          "text": [
            "torch.Size([1, 19])\n",
            "torch.Size([1, 19, 9])\n"
          ]
        }
      ]
    },
    {
      "cell_type": "markdown",
      "source": [
        "我们有一个包含19个token的sequence，其中有9个labels,所以得到的tensor形状是1，19,9"
      ],
      "metadata": {
        "id": "o4hykwReUFxN"
      }
    },
    {
      "cell_type": "code",
      "source": [
        "#probabilities包含第一个样本的所有类别的预测概率值，表示模型对每一个类别的信心\n",
        "#predictions包含第一个样本的最终预测标签（即模型认为最有可能的类别）\n",
        "import torch\n",
        "\n",
        "probabilities = torch.nn.functional.softmax(outputs.logits, dim=-1)[0].tolist()\n",
        "predictions = outputs.logits.argmax(dim=-1)[0].tolist()\n",
        "print(predictions)"
      ],
      "metadata": {
        "colab": {
          "base_uri": "https://localhost:8080/"
        },
        "id": "xPgGVQdBT11N",
        "outputId": "66f09aeb-cbee-4a64-8d65-03624b0a6f8f"
      },
      "execution_count": 6,
      "outputs": [
        {
          "output_type": "stream",
          "name": "stdout",
          "text": [
            "[0, 0, 0, 0, 4, 4, 4, 4, 0, 0, 0, 0, 6, 6, 6, 0, 8, 0, 0]\n"
          ]
        }
      ]
    },
    {
      "cell_type": "code",
      "source": [
        "model.config.id2label"
      ],
      "metadata": {
        "colab": {
          "base_uri": "https://localhost:8080/"
        },
        "id": "O0K3QIlEVQPd",
        "outputId": "c2ea8b01-21e7-473e-fa29-354e2220554b"
      },
      "execution_count": 7,
      "outputs": [
        {
          "output_type": "execute_result",
          "data": {
            "text/plain": [
              "{0: 'O',\n",
              " 1: 'B-MISC',\n",
              " 2: 'I-MISC',\n",
              " 3: 'B-PER',\n",
              " 4: 'I-PER',\n",
              " 5: 'B-ORG',\n",
              " 6: 'I-ORG',\n",
              " 7: 'B-LOC',\n",
              " 8: 'I-LOC'}"
            ]
          },
          "metadata": {},
          "execution_count": 7
        }
      ]
    },
    {
      "cell_type": "markdown",
      "source": [
        "enumerate可以通过list()和for循环来访问。每次迭代时，他会返回一个元组，第一个元素是索引，第二个元素是对应位置的值\n",
        "\n",
        "\n",
        "![image.png](data:image/png;base64,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)"
      ],
      "metadata": {
        "id": "UpdO3fRlXHIF"
      }
    },
    {
      "cell_type": "code",
      "source": [
        "results = []\n",
        "tokens = inputs.tokens()\n",
        "\n",
        "for idx, pred in enumerate(predictions):\n",
        "  label = model.config.id2label[pred]\n",
        "  if label != \"0\":\n",
        "    results.append(\n",
        "        {\"entity\": label, \"score\": probabilities[idx][pred], \"word\": tokens[idx]}\n",
        "    )\n",
        "\n",
        "print(results)"
      ],
      "metadata": {
        "colab": {
          "base_uri": "https://localhost:8080/"
        },
        "id": "pI6iQFTJXMdH",
        "outputId": "8f7a0c25-6974-4a96-ae4a-301ecfa9af62"
      },
      "execution_count": 8,
      "outputs": [
        {
          "output_type": "stream",
          "name": "stdout",
          "text": [
            "[{'entity': 'O', 'score': 0.9994322657585144, 'word': '[CLS]'}, {'entity': 'O', 'score': 0.9989631175994873, 'word': 'My'}, {'entity': 'O', 'score': 0.999708354473114, 'word': 'name'}, {'entity': 'O', 'score': 0.9998350143432617, 'word': 'is'}, {'entity': 'I-PER', 'score': 0.9993828535079956, 'word': 'S'}, {'entity': 'I-PER', 'score': 0.9981548190116882, 'word': '##yl'}, {'entity': 'I-PER', 'score': 0.995907187461853, 'word': '##va'}, {'entity': 'I-PER', 'score': 0.9992327690124512, 'word': '##in'}, {'entity': 'O', 'score': 0.999804675579071, 'word': 'and'}, {'entity': 'O', 'score': 0.9995046854019165, 'word': 'I'}, {'entity': 'O', 'score': 0.9996776580810547, 'word': 'work'}, {'entity': 'O', 'score': 0.999434769153595, 'word': 'at'}, {'entity': 'I-ORG', 'score': 0.9738931059837341, 'word': 'Hu'}, {'entity': 'I-ORG', 'score': 0.9761149883270264, 'word': '##gging'}, {'entity': 'I-ORG', 'score': 0.9887974858283997, 'word': 'Face'}, {'entity': 'O', 'score': 0.9995326995849609, 'word': 'in'}, {'entity': 'I-LOC', 'score': 0.99321049451828, 'word': 'Brooklyn'}, {'entity': 'O', 'score': 0.9994322657585144, 'word': '.'}, {'entity': 'O', 'score': 0.9994322657585144, 'word': '[SEP]'}]\n"
          ]
        }
      ]
    },
    {
      "cell_type": "code",
      "source": [
        "inputs_with_offsets = tokenizer(example, return_offsets_mapping=True)\n",
        "inputs_with_offsets[\"offset_mapping\"]\n",
        "\n",
        "#return_offsets_mapping 返回每个token对应原始文本中的起始和结束位置的字符偏移量"
      ],
      "metadata": {
        "colab": {
          "base_uri": "https://localhost:8080/"
        },
        "id": "T-yW3VpbXs1B",
        "outputId": "a2a045a7-56bd-4f6b-d1d0-ffecce8d286d"
      },
      "execution_count": 9,
      "outputs": [
        {
          "output_type": "execute_result",
          "data": {
            "text/plain": [
              "[(0, 0),\n",
              " (0, 2),\n",
              " (3, 7),\n",
              " (8, 10),\n",
              " (11, 12),\n",
              " (12, 14),\n",
              " (14, 16),\n",
              " (16, 18),\n",
              " (19, 22),\n",
              " (23, 24),\n",
              " (25, 29),\n",
              " (30, 32),\n",
              " (33, 35),\n",
              " (35, 40),\n",
              " (41, 45),\n",
              " (46, 48),\n",
              " (49, 57),\n",
              " (57, 58),\n",
              " (0, 0)]"
            ]
          },
          "metadata": {},
          "execution_count": 9
        }
      ]
    },
    {
      "cell_type": "markdown",
      "source": [
        "当你需要对每个token进行标注、分类和识别时，offset_mapping可以帮助你将token和其在原始文本中的位置关联起来。\n",
        "\n",
        "![image.png](data:image/png;base64,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)"
      ],
      "metadata": {
        "id": "Kv6AG5TNY0n9"
      }
    },
    {
      "cell_type": "code",
      "source": [
        "example[12:14]"
      ],
      "metadata": {
        "colab": {
          "base_uri": "https://localhost:8080/",
          "height": 35
        },
        "id": "pqlO_JRnZF1m",
        "outputId": "12cbe831-192d-4e39-9d1c-4aae7c1a9633"
      },
      "execution_count": 10,
      "outputs": [
        {
          "output_type": "execute_result",
          "data": {
            "text/plain": [
              "'yl'"
            ],
            "application/vnd.google.colaboratory.intrinsic+json": {
              "type": "string"
            }
          },
          "metadata": {},
          "execution_count": 10
        }
      ]
    },
    {
      "cell_type": "code",
      "source": [
        "#在之前的基础上加上off_mapping来获取每一个token的位置\n",
        "\n",
        "results = []\n",
        "inputs_with_offsets = tokenizer(example, return_offsets_mapping=True)\n",
        "tokens = inputs_with_offsets.tokens()\n",
        "offsets = inputs_with_offsets[\"offset_mapping\"]\n",
        "\n",
        "for idx, pred in enumerate(predictions):\n",
        "  label = model.config.id2label[pred]\n",
        "  if label != \"0\":\n",
        "    start, end = offsets[idx]\n",
        "    results.append(\n",
        "        {\n",
        "            \"entity\": label,\n",
        "            \"score\": probabilities[idx][pred],\n",
        "            \"word\": tokens[idx],\n",
        "            \"start\": start,\n",
        "            \"end\": end,\n",
        "        }\n",
        "    )\n",
        "\n",
        "print(results)"
      ],
      "metadata": {
        "colab": {
          "base_uri": "https://localhost:8080/"
        },
        "id": "pf5Q57xbZI_p",
        "outputId": "6ddad34e-5e90-4d2e-8258-71f14fbbeb50"
      },
      "execution_count": 13,
      "outputs": [
        {
          "output_type": "stream",
          "name": "stdout",
          "text": [
            "[{'entity': 'O', 'score': 0.9994322657585144, 'word': '[CLS]', 'start': 0, 'end': 0}, {'entity': 'O', 'score': 0.9989631175994873, 'word': 'My', 'start': 0, 'end': 2}, {'entity': 'O', 'score': 0.999708354473114, 'word': 'name', 'start': 3, 'end': 7}, {'entity': 'O', 'score': 0.9998350143432617, 'word': 'is', 'start': 8, 'end': 10}, {'entity': 'I-PER', 'score': 0.9993828535079956, 'word': 'S', 'start': 11, 'end': 12}, {'entity': 'I-PER', 'score': 0.9981548190116882, 'word': '##yl', 'start': 12, 'end': 14}, {'entity': 'I-PER', 'score': 0.995907187461853, 'word': '##va', 'start': 14, 'end': 16}, {'entity': 'I-PER', 'score': 0.9992327690124512, 'word': '##in', 'start': 16, 'end': 18}, {'entity': 'O', 'score': 0.999804675579071, 'word': 'and', 'start': 19, 'end': 22}, {'entity': 'O', 'score': 0.9995046854019165, 'word': 'I', 'start': 23, 'end': 24}, {'entity': 'O', 'score': 0.9996776580810547, 'word': 'work', 'start': 25, 'end': 29}, {'entity': 'O', 'score': 0.999434769153595, 'word': 'at', 'start': 30, 'end': 32}, {'entity': 'I-ORG', 'score': 0.9738931059837341, 'word': 'Hu', 'start': 33, 'end': 35}, {'entity': 'I-ORG', 'score': 0.9761149883270264, 'word': '##gging', 'start': 35, 'end': 40}, {'entity': 'I-ORG', 'score': 0.9887974858283997, 'word': 'Face', 'start': 41, 'end': 45}, {'entity': 'O', 'score': 0.9995326995849609, 'word': 'in', 'start': 46, 'end': 48}, {'entity': 'I-LOC', 'score': 0.99321049451828, 'word': 'Brooklyn', 'start': 49, 'end': 57}, {'entity': 'O', 'score': 0.9994322657585144, 'word': '.', 'start': 57, 'end': 58}, {'entity': 'O', 'score': 0.9994322657585144, 'word': '[SEP]', 'start': 0, 'end': 0}]\n"
          ]
        }
      ]
    },
    {
      "cell_type": "code",
      "source": [
        "example[33:45]"
      ],
      "metadata": {
        "colab": {
          "base_uri": "https://localhost:8080/",
          "height": 35
        },
        "id": "6IM0E426aUNb",
        "outputId": "cf220e1d-9ed0-432d-e813-b9481151649e"
      },
      "execution_count": 14,
      "outputs": [
        {
          "output_type": "execute_result",
          "data": {
            "text/plain": [
              "'Hugging Face'"
            ],
            "application/vnd.google.colaboratory.intrinsic+json": {
              "type": "string"
            }
          },
          "metadata": {},
          "execution_count": 14
        }
      ]
    },
    {
      "cell_type": "markdown",
      "source": [
        "以下这段代码的目的是对模型的预测结果进行处理，特别是针对**实体分组（B-和I-标签）**进行合并，并计算出该组实体的平均分数（score）。\n",
        "\n",
        "它主要用于命名实体识别（NER）任务，尤其是处理**B-I-序列标注**（即实体的开始标记B-和内部标记I-）"
      ],
      "metadata": {
        "id": "i_hnuxFbbP29"
      }
    },
    {
      "cell_type": "code",
      "source": [
        "import numpy as np\n",
        "\n",
        "results = []\n",
        "inputs_with_offsets = tokenizer(example, return_offsets_mapping=True)\n",
        "tokens = inputs_with_offsets.tokens()\n",
        "offsets = inputs_with_offsets[\"offset_mapping\"]\n",
        "\n",
        "idx = 0\n",
        "while idx < len(predictions):\n",
        "    pred = predictions[idx]\n",
        "    label = model.config.id2label[pred]\n",
        "    if label != \"O\":\n",
        "        #判断实体标签并移除B-/I-前缀\n",
        "        label = label[2:]\n",
        "        start, _ = offsets[idx]\n",
        "\n",
        "        ##处理连续的I-label（内部标签）\n",
        "        all_scores = []\n",
        "        while (\n",
        "            idx < len(predictions)\n",
        "            and model.config.id2label[predictions[idx]] == f\"I-{label}\"\n",
        "        ):\n",
        "            all_scores.append(probabilities[idx][pred])\n",
        "            _, end = offsets[idx]\n",
        "            idx += 1\n",
        "\n",
        "        # The score is the mean of all the scores of the tokens in that grouped entity\n",
        "        score = np.mean(all_scores).item()\n",
        "        word = example[start:end]\n",
        "        results.append(\n",
        "            {\n",
        "                \"entity_group\": label,\n",
        "                \"score\": score,\n",
        "                \"word\": word,\n",
        "                \"start\": start,\n",
        "                \"end\": end,\n",
        "            }\n",
        "        )\n",
        "    idx += 1\n",
        "\n",
        "print(results)"
      ],
      "metadata": {
        "colab": {
          "base_uri": "https://localhost:8080/"
        },
        "id": "L-xbOyLCbGBd",
        "outputId": "bc53a309-4830-4d46-c354-3d55081f9a7d"
      },
      "execution_count": 16,
      "outputs": [
        {
          "output_type": "stream",
          "name": "stdout",
          "text": [
            "[{'entity_group': 'PER', 'score': 0.998169407248497, 'word': 'Sylvain', 'start': 11, 'end': 18}, {'entity_group': 'ORG', 'score': 0.9796018600463867, 'word': 'Hugging Face', 'start': 33, 'end': 45}, {'entity_group': 'LOC', 'score': 0.99321049451828, 'word': 'Brooklyn', 'start': 49, 'end': 57}]\n"
          ]
        }
      ]
    },
    {
      "cell_type": "code",
      "source": [],
      "metadata": {
        "id": "n07thX85foN3"
      },
      "execution_count": null,
      "outputs": []
    }
  ]
}